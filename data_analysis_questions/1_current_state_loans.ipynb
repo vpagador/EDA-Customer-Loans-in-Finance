{
 "cells": [
  {
   "cell_type": "markdown",
   "metadata": {},
   "source": [
    "## 1: Current State of the loans\n",
    "\n",
    "- Summarise currently what percentage of the loans are recovered against the investor funding and the total amount funded. \n",
    "- Visualise your results on an appropriate graph. \n",
    "- Additionally visualise what percentage of the total amount would be recovered up to 6 months' in the future."
   ]
  },
  {
   "cell_type": "code",
   "execution_count": 1,
   "metadata": {},
   "outputs": [],
   "source": [
    "import pandas as pd\n",
    "import sys\n",
    "sys.path.append('../')\n",
    "from modules.data_transform import DataTransform\n",
    "from matplotlib import pyplot as plt"
   ]
  },
  {
   "cell_type": "code",
   "execution_count": 2,
   "metadata": {},
   "outputs": [],
   "source": [
    "df = pd.read_csv('../csv_files/imputed_loan_payments.csv')"
   ]
  },
  {
   "cell_type": "code",
   "execution_count": 3,
   "metadata": {},
   "outputs": [
    {
     "name": "stdout",
     "output_type": "stream",
     "text": [
      "id --> int32\n",
      "member_id --> int32\n",
      "loan_amount --> int32\n",
      "funded_amount --> float32\n",
      "funded_amount_inv --> float32\n",
      "term --> int32\n",
      "int_rate --> float32\n",
      "instalment --> float32\n",
      "grade --> category\n",
      "sub_grade --> category\n",
      "employment_length --> int32\n",
      "home_ownership --> category\n",
      "annual_inc --> float32\n",
      "verification_status --> category\n",
      "issue_date --> date\n",
      "loan_status --> category\n",
      "payment_plan --> category\n",
      "purpose --> category\n",
      "dti --> float32\n",
      "delinq_2yrs --> int32\n",
      "earliest_credit_line --> date\n",
      "inq_last_6mths --> int32\n",
      "column not exist\n",
      "column not exist\n",
      "open_accounts --> int32\n",
      "total_accounts --> int32\n",
      "out_prncp --> float32\n",
      "out_prncp_inv --> float32\n",
      "total_payment --> float32\n",
      "total_payment_inv --> float32\n",
      "total_rec_prncp --> float32\n",
      "total_rec_int --> float32\n",
      "total_rec_late_fee --> float32\n",
      "recoveries --> float32\n",
      "collection_recovery_fee --> float32\n",
      "last_payment_date --> date\n",
      "last_payment_amount --> float32\n",
      "column not exist\n",
      "last_credit_pull_date --> date\n",
      "collections_12_mths_ex_med --> int32\n",
      "column not exist\n",
      "policy_code --> int32\n",
      "application_type --> category\n"
     ]
    }
   ],
   "source": [
    "transformer = DataTransform()\n",
    "df = transformer.encode_transform(df)\n",
    "df = transformer.transform_digit_string(df)\n",
    "df = transformer.cast_column_dtypes(df)"
   ]
  },
  {
   "cell_type": "code",
   "execution_count": 4,
   "metadata": {},
   "outputs": [
    {
     "data": {
      "text/plain": [
       "91.01590186425827"
      ]
     },
     "execution_count": 4,
     "metadata": {},
     "output_type": "execute_result"
    }
   ],
   "source": [
    "# Q. What percentage of the loans have been recovered at the time the dataset has been created?\n",
    "# Using total_payment_inv as a percentage of funded_amount_inv\n",
    "(sum(df['total_payment_inv']) / sum(df['funded_amount_inv'])) * 100"
   ]
  },
  {
   "cell_type": "code",
   "execution_count": 5,
   "metadata": {},
   "outputs": [
    {
     "data": {
      "text/html": [
       "<div>\n",
       "<style scoped>\n",
       "    .dataframe tbody tr th:only-of-type {\n",
       "        vertical-align: middle;\n",
       "    }\n",
       "\n",
       "    .dataframe tbody tr th {\n",
       "        vertical-align: top;\n",
       "    }\n",
       "\n",
       "    .dataframe thead th {\n",
       "        text-align: right;\n",
       "    }\n",
       "</style>\n",
       "<table border=\"1\" class=\"dataframe\">\n",
       "  <thead>\n",
       "    <tr style=\"text-align: right;\">\n",
       "      <th></th>\n",
       "      <th>total_payment_inv</th>\n",
       "      <th>funded_amount_inv</th>\n",
       "    </tr>\n",
       "  </thead>\n",
       "  <tbody>\n",
       "    <tr>\n",
       "      <th>0</th>\n",
       "      <td>2982.510010</td>\n",
       "      <td>8000.0</td>\n",
       "    </tr>\n",
       "    <tr>\n",
       "      <th>1</th>\n",
       "      <td>4885.109863</td>\n",
       "      <td>13200.0</td>\n",
       "    </tr>\n",
       "    <tr>\n",
       "      <th>2</th>\n",
       "      <td>16824.539062</td>\n",
       "      <td>16000.0</td>\n",
       "    </tr>\n",
       "    <tr>\n",
       "      <th>3</th>\n",
       "      <td>15947.469727</td>\n",
       "      <td>15000.0</td>\n",
       "    </tr>\n",
       "    <tr>\n",
       "      <th>4</th>\n",
       "      <td>5473.459961</td>\n",
       "      <td>15000.0</td>\n",
       "    </tr>\n",
       "    <tr>\n",
       "      <th>...</th>\n",
       "      <td>...</td>\n",
       "      <td>...</td>\n",
       "    </tr>\n",
       "    <tr>\n",
       "      <th>54226</th>\n",
       "      <td>2032.290039</td>\n",
       "      <td>1775.0</td>\n",
       "    </tr>\n",
       "    <tr>\n",
       "      <th>54227</th>\n",
       "      <td>2787.469971</td>\n",
       "      <td>2350.0</td>\n",
       "    </tr>\n",
       "    <tr>\n",
       "      <th>54228</th>\n",
       "      <td>2489.010010</td>\n",
       "      <td>2225.0</td>\n",
       "    </tr>\n",
       "    <tr>\n",
       "      <th>54229</th>\n",
       "      <td>232.839996</td>\n",
       "      <td>225.0</td>\n",
       "    </tr>\n",
       "    <tr>\n",
       "      <th>54230</th>\n",
       "      <td>104.599998</td>\n",
       "      <td>350.0</td>\n",
       "    </tr>\n",
       "  </tbody>\n",
       "</table>\n",
       "<p>54231 rows × 2 columns</p>\n",
       "</div>"
      ],
      "text/plain": [
       "       total_payment_inv  funded_amount_inv\n",
       "0            2982.510010             8000.0\n",
       "1            4885.109863            13200.0\n",
       "2           16824.539062            16000.0\n",
       "3           15947.469727            15000.0\n",
       "4            5473.459961            15000.0\n",
       "...                  ...                ...\n",
       "54226        2032.290039             1775.0\n",
       "54227        2787.469971             2350.0\n",
       "54228        2489.010010             2225.0\n",
       "54229         232.839996              225.0\n",
       "54230         104.599998              350.0\n",
       "\n",
       "[54231 rows x 2 columns]"
      ]
     },
     "execution_count": 5,
     "metadata": {},
     "output_type": "execute_result"
    }
   ],
   "source": [
    "# Seems quite a high amount already\n",
    "# Compare the two columns\n",
    "df[['total_payment_inv','funded_amount_inv']]"
   ]
  },
  {
   "cell_type": "code",
   "execution_count": 6,
   "metadata": {},
   "outputs": [
    {
     "name": "stdout",
     "output_type": "stream",
     "text": [
      "639326364.1111662\n",
      "713752375.0\n"
     ]
    }
   ],
   "source": [
    "# Compare the sum of total_payment_inv and the  sum of funded_amount\n",
    "print(sum(df['total_payment_inv']))\n",
    "print(sum(df['funded_amount']))"
   ]
  },
  {
   "cell_type": "code",
   "execution_count": 7,
   "metadata": {},
   "outputs": [
    {
     "data": {
      "text/plain": [
       "801175757.0307274"
      ]
     },
     "execution_count": 7,
     "metadata": {},
     "output_type": "execute_result"
    }
   ],
   "source": [
    "# Perhaps add the interest value to the fundeded_amount_inv\n",
    "funded_amount_with_interest = df['funded_amount_inv'] + (df['funded_amount_inv'] * (df['int_rate']/100))\n",
    "sum(funded_amount_with_interest)"
   ]
  },
  {
   "cell_type": "code",
   "execution_count": 8,
   "metadata": {},
   "outputs": [
    {
     "data": {
      "text/plain": [
       "779120709.7122002"
      ]
     },
     "execution_count": 8,
     "metadata": {},
     "output_type": "execute_result"
    }
   ],
   "source": [
    "# Add the the interest value to the principal value left to be paid\n",
    "total_payment_with_interest = df['total_payment_inv'] + df['total_rec_int']\n",
    "sum(total_payment_with_interest)"
   ]
  },
  {
   "cell_type": "code",
   "execution_count": 9,
   "metadata": {},
   "outputs": [],
   "source": [
    "# Percentage of total payment made from funded amount with interest\n",
    "percentage_paid_back_df =(sum(total_payment_with_interest) / sum(funded_amount_with_interest)) * 100"
   ]
  },
  {
   "cell_type": "code",
   "execution_count": 10,
   "metadata": {},
   "outputs": [
    {
     "name": "stdout",
     "output_type": "stream",
     "text": [
      "amount of principal paid back:  553159173.5927553\n",
      "percentage of principal paid back:  78.74895184250246\n"
     ]
    }
   ],
   "source": [
    "# Perhaps a more accurate way\n",
    "# 'out_prncp' is the amount outstanding principal to be paid back by the loanee\n",
    "# 'funded_amount_inv' is the amount committed by the investors which is borrowed by the loanee\n",
    "# df['funded_amount_inv'] - df['out_prncp'] is the amount paid by the loanee towards the loan (without interest \n",
    "\n",
    "principal_paid_back = sum(df['funded_amount_inv'] - df['out_prncp_inv'])\n",
    "print('amount of principal paid back: ',principal_paid_back)\n",
    "percentage_principal_paid_back = (principal_paid_back / sum(df['funded_amount_inv']))*100\n",
    "print('percentage of principal paid back: ',percentage_principal_paid_back)"
   ]
  },
  {
   "cell_type": "code",
   "execution_count": 11,
   "metadata": {},
   "outputs": [],
   "source": [
    "# Q. Visualise your results on an appropriate graph\n",
    "percentage_paid_back_df = pd.DataFrame(data= [percentage_principal_paid_back, \n",
    "                                              100-percentage_principal_paid_back],\n",
    "                                              index = ['percentage paid back','percentage owed'])"
   ]
  },
  {
   "cell_type": "code",
   "execution_count": 12,
   "metadata": {},
   "outputs": [
    {
     "data": {
      "text/html": [
       "<div>\n",
       "<style scoped>\n",
       "    .dataframe tbody tr th:only-of-type {\n",
       "        vertical-align: middle;\n",
       "    }\n",
       "\n",
       "    .dataframe tbody tr th {\n",
       "        vertical-align: top;\n",
       "    }\n",
       "\n",
       "    .dataframe thead th {\n",
       "        text-align: right;\n",
       "    }\n",
       "</style>\n",
       "<table border=\"1\" class=\"dataframe\">\n",
       "  <thead>\n",
       "    <tr style=\"text-align: right;\">\n",
       "      <th></th>\n",
       "      <th>0</th>\n",
       "    </tr>\n",
       "  </thead>\n",
       "  <tbody>\n",
       "    <tr>\n",
       "      <th>percentage paid back</th>\n",
       "      <td>78.748952</td>\n",
       "    </tr>\n",
       "    <tr>\n",
       "      <th>percentage owed</th>\n",
       "      <td>21.251048</td>\n",
       "    </tr>\n",
       "  </tbody>\n",
       "</table>\n",
       "</div>"
      ],
      "text/plain": [
       "                              0\n",
       "percentage paid back  78.748952\n",
       "percentage owed       21.251048"
      ]
     },
     "execution_count": 12,
     "metadata": {},
     "output_type": "execute_result"
    }
   ],
   "source": [
    "percentage_paid_back_df"
   ]
  },
  {
   "cell_type": "code",
   "execution_count": 13,
   "metadata": {},
   "outputs": [
    {
     "data": {
      "image/png": "[encoded data removed]",
      "text/plain": [
       "<Figure size 640x480 with 1 Axes>"
      ]
     },
     "metadata": {},
     "output_type": "display_data"
    }
   ],
   "source": [
    "percentage_paid_back_df.plot(kind='pie',title='Percentage of the total value of loans paid back',legend=False,subplots=True, ylabel='',autopct='%1.1f%%')\n",
    "plt.show()"
   ]
  },
  {
   "cell_type": "code",
   "execution_count": 14,
   "metadata": {},
   "outputs": [
    {
     "data": {
      "text/html": [
       "<div>\n",
       "<style scoped>\n",
       "    .dataframe tbody tr th:only-of-type {\n",
       "        vertical-align: middle;\n",
       "    }\n",
       "\n",
       "    .dataframe tbody tr th {\n",
       "        vertical-align: top;\n",
       "    }\n",
       "\n",
       "    .dataframe thead th {\n",
       "        text-align: right;\n",
       "    }\n",
       "</style>\n",
       "<table border=\"1\" class=\"dataframe\">\n",
       "  <thead>\n",
       "    <tr style=\"text-align: right;\">\n",
       "      <th></th>\n",
       "      <th>instalment</th>\n",
       "      <th>int_rate</th>\n",
       "      <th>out_prncp_inv</th>\n",
       "    </tr>\n",
       "  </thead>\n",
       "  <tbody>\n",
       "    <tr>\n",
       "      <th>0</th>\n",
       "      <td>248.820007</td>\n",
       "      <td>7.49</td>\n",
       "      <td>5529.700195</td>\n",
       "    </tr>\n",
       "    <tr>\n",
       "      <th>1</th>\n",
       "      <td>407.519989</td>\n",
       "      <td>6.99</td>\n",
       "      <td>9102.830078</td>\n",
       "    </tr>\n",
       "    <tr>\n",
       "      <th>4</th>\n",
       "      <td>456.540009</td>\n",
       "      <td>6.03</td>\n",
       "      <td>10297.469727</td>\n",
       "    </tr>\n",
       "    <tr>\n",
       "      <th>5</th>\n",
       "      <td>83.199997</td>\n",
       "      <td>11.44</td>\n",
       "      <td>1842.680054</td>\n",
       "    </tr>\n",
       "    <tr>\n",
       "      <th>8</th>\n",
       "      <td>227.479996</td>\n",
       "      <td>12.99</td>\n",
       "      <td>8480.910156</td>\n",
       "    </tr>\n",
       "    <tr>\n",
       "      <th>...</th>\n",
       "      <td>...</td>\n",
       "      <td>...</td>\n",
       "      <td>...</td>\n",
       "    </tr>\n",
       "    <tr>\n",
       "      <th>47025</th>\n",
       "      <td>301.320007</td>\n",
       "      <td>21.60</td>\n",
       "      <td>7281.049805</td>\n",
       "    </tr>\n",
       "    <tr>\n",
       "      <th>49857</th>\n",
       "      <td>174.380005</td>\n",
       "      <td>11.11</td>\n",
       "      <td>191.250000</td>\n",
       "    </tr>\n",
       "    <tr>\n",
       "      <th>51195</th>\n",
       "      <td>399.970001</td>\n",
       "      <td>17.27</td>\n",
       "      <td>3373.709961</td>\n",
       "    </tr>\n",
       "    <tr>\n",
       "      <th>52986</th>\n",
       "      <td>86.480003</td>\n",
       "      <td>17.76</td>\n",
       "      <td>798.260010</td>\n",
       "    </tr>\n",
       "    <tr>\n",
       "      <th>53334</th>\n",
       "      <td>791.159973</td>\n",
       "      <td>8.67</td>\n",
       "      <td>17375.320312</td>\n",
       "    </tr>\n",
       "  </tbody>\n",
       "</table>\n",
       "<p>19268 rows × 3 columns</p>\n",
       "</div>"
      ],
      "text/plain": [
       "       instalment  int_rate  out_prncp_inv\n",
       "0      248.820007      7.49    5529.700195\n",
       "1      407.519989      6.99    9102.830078\n",
       "4      456.540009      6.03   10297.469727\n",
       "5       83.199997     11.44    1842.680054\n",
       "8      227.479996     12.99    8480.910156\n",
       "...           ...       ...            ...\n",
       "47025  301.320007     21.60    7281.049805\n",
       "49857  174.380005     11.11     191.250000\n",
       "51195  399.970001     17.27    3373.709961\n",
       "52986   86.480003     17.76     798.260010\n",
       "53334  791.159973      8.67   17375.320312\n",
       "\n",
       "[19268 rows x 3 columns]"
      ]
     },
     "execution_count": 14,
     "metadata": {},
     "output_type": "execute_result"
    }
   ],
   "source": [
    "# Q. Additionally visualise what percentage of the total amount would be recovered up to 6 months' in the future.\n",
    "\n",
    "# get subset of loans whose status is 'Current'\n",
    "df_current = df[df['loan_status'] == 'Current']\n",
    "# columns we need\n",
    "df_current[['instalment','int_rate','out_prncp_inv']]"
   ]
  },
  {
   "cell_type": "code",
   "execution_count": 15,
   "metadata": {},
   "outputs": [
    {
     "data": {
      "text/plain": [
       "0        230.183380\n",
       "1        379.034332\n",
       "4        429.010651\n",
       "5         73.681915\n",
       "8        197.930344\n",
       "            ...    \n",
       "47025    236.234894\n",
       "49857    155.006393\n",
       "51195    330.895172\n",
       "52986     71.121155\n",
       "53334    722.566406\n",
       "Length: 19268, dtype: float32"
      ]
     },
     "execution_count": 15,
     "metadata": {},
     "output_type": "execute_result"
    }
   ],
   "source": [
    "# remove int_rate from instalment amount\n",
    "instalment_without_interest = df_current['instalment'] - (df_current['instalment'] * (df_current['int_rate']/100))\n",
    "instalment_without_interest"
   ]
  },
  {
   "cell_type": "code",
   "execution_count": 16,
   "metadata": {},
   "outputs": [
    {
     "data": {
      "text/plain": [
       "0        24.023022\n",
       "1        24.015846\n",
       "4        24.002831\n",
       "5        25.008579\n",
       "8        42.847954\n",
       "           ...    \n",
       "47025    30.821230\n",
       "49857     1.233820\n",
       "51195    10.195706\n",
       "52986    11.223947\n",
       "53334    24.046677\n",
       "Length: 19268, dtype: float32"
      ]
     },
     "execution_count": 16,
     "metadata": {},
     "output_type": "execute_result"
    }
   ],
   "source": [
    "# Calculate the number of months left on the loan term based off the instalments and the amount left to pay on the principal\n",
    "months_left = df_current['out_prncp_inv'] / instalment_without_interest\n",
    "months_left"
   ]
  },
  {
   "cell_type": "code",
   "execution_count": 17,
   "metadata": {},
   "outputs": [
    {
     "data": {
      "text/plain": [
       "0        6.0\n",
       "1        6.0\n",
       "4        6.0\n",
       "5        6.0\n",
       "8        6.0\n",
       "        ... \n",
       "47025    6.0\n",
       "49857    1.0\n",
       "51195    6.0\n",
       "52986    6.0\n",
       "53334    6.0\n",
       "Length: 19268, dtype: float32"
      ]
     },
     "execution_count": 17,
     "metadata": {},
     "output_type": "execute_result"
    }
   ],
   "source": [
    "months_multiplier = months_left.mask(months_left > 6, other=6).mask(months_left <= 6, other=round(months_left))\n",
    "months_multiplier"
   ]
  },
  {
   "cell_type": "code",
   "execution_count": 18,
   "metadata": {},
   "outputs": [
    {
     "name": "stdout",
     "output_type": "stream",
     "text": [
      "43444868.078495026\n"
     ]
    }
   ],
   "source": [
    "amount_to_be_paid_in_6_months = sum(instalment_without_interest * months_multiplier)\n",
    "print(amount_to_be_paid_in_6_months)"
   ]
  },
  {
   "cell_type": "code",
   "execution_count": 19,
   "metadata": {},
   "outputs": [
    {
     "data": {
      "text/plain": [
       "553159173.5927553"
      ]
     },
     "execution_count": 19,
     "metadata": {},
     "output_type": "execute_result"
    }
   ],
   "source": [
    "principal_paid_back"
   ]
  },
  {
   "cell_type": "code",
   "execution_count": 20,
   "metadata": {},
   "outputs": [
    {
     "data": {
      "text/plain": [
       "True"
      ]
     },
     "execution_count": 20,
     "metadata": {},
     "output_type": "execute_result"
    }
   ],
   "source": [
    "principal_paid_back > amount_to_be_paid_in_6_months"
   ]
  },
  {
   "cell_type": "code",
   "execution_count": 21,
   "metadata": {},
   "outputs": [
    {
     "data": {
      "text/plain": [
       "596604041.6712503"
      ]
     },
     "execution_count": 21,
     "metadata": {},
     "output_type": "execute_result"
    }
   ],
   "source": [
    "# Percentage of total payment in 6 months' time\n",
    "# Total payments made towards principal in 6 months' time\n",
    "total_payments_made_in_6_months = principal_paid_back + amount_to_be_paid_in_6_months\n",
    "total_payments_made_in_6_months"
   ]
  },
  {
   "cell_type": "code",
   "execution_count": 22,
   "metadata": {},
   "outputs": [
    {
     "data": {
      "text/plain": [
       "84.93385844342968"
      ]
     },
     "execution_count": 22,
     "metadata": {},
     "output_type": "execute_result"
    }
   ],
   "source": [
    "percentage_paid_in_6_months = (total_payments_made_in_6_months / sum(df['funded_amount_inv'])) * 100\n",
    "percentage_paid_in_6_months"
   ]
  },
  {
   "cell_type": "code",
   "execution_count": 23,
   "metadata": {},
   "outputs": [
    {
     "data": {
      "text/html": [
       "<div>\n",
       "<style scoped>\n",
       "    .dataframe tbody tr th:only-of-type {\n",
       "        vertical-align: middle;\n",
       "    }\n",
       "\n",
       "    .dataframe tbody tr th {\n",
       "        vertical-align: top;\n",
       "    }\n",
       "\n",
       "    .dataframe thead th {\n",
       "        text-align: right;\n",
       "    }\n",
       "</style>\n",
       "<table border=\"1\" class=\"dataframe\">\n",
       "  <thead>\n",
       "    <tr style=\"text-align: right;\">\n",
       "      <th></th>\n",
       "      <th>0</th>\n",
       "    </tr>\n",
       "  </thead>\n",
       "  <tbody>\n",
       "    <tr>\n",
       "      <th>percentage to be paid back</th>\n",
       "      <td>84.933858</td>\n",
       "    </tr>\n",
       "    <tr>\n",
       "      <th>percentage owed</th>\n",
       "      <td>15.066142</td>\n",
       "    </tr>\n",
       "  </tbody>\n",
       "</table>\n",
       "</div>"
      ],
      "text/plain": [
       "                                    0\n",
       "percentage to be paid back  84.933858\n",
       "percentage owed             15.066142"
      ]
     },
     "execution_count": 23,
     "metadata": {},
     "output_type": "execute_result"
    }
   ],
   "source": [
    "# Visualise your results on an appropriate graph\n",
    "percentage_paid_back_6_months_df = pd.DataFrame(data= [percentage_paid_in_6_months, \n",
    "                                              100 - percentage_paid_in_6_months],\n",
    "                                              index = ['percentage to be paid back','percentage owed'])\n",
    "percentage_paid_back_6_months_df"
   ]
  },
  {
   "cell_type": "code",
   "execution_count": 24,
   "metadata": {},
   "outputs": [
    {
     "data": {
      "image/png": "[encoded data removed]",
      "text/plain": [
       "<Figure size 640x480 with 1 Axes>"
      ]
     },
     "metadata": {},
     "output_type": "display_data"
    }
   ],
   "source": [
    "percentage_paid_back_6_months_df.plot(kind='pie',title='Percentage of the total value of loans to be paid back in 6 months\\' time',legend=False,subplots=True, ylabel='',autopct='%1.1f%%')\n",
    "plt.show()"
   ]
  }
 ],
 "metadata": {
  "kernelspec": {
   "display_name": "my_env",
   "language": "python",
   "name": "python3"
  },
  "language_info": {
   "codemirror_mode": {
    "name": "ipython",
    "version": 3
   },
   "file_extension": ".py",
   "mimetype": "text/x-python",
   "name": "python",
   "nbconvert_exporter": "python",
   "pygments_lexer": "ipython3",
   "version": "3.11.8"
  }
 },
 "nbformat": 4,
 "nbformat_minor": 2
}
