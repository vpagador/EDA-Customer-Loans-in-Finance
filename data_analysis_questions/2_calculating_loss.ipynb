{
 "cells": [
  {
   "cell_type": "markdown",
   "metadata": {},
   "source": [
    "## 2: Caluculating Loss\n",
    "\n",
    "The company wants to check what percentage of loans have been a loss to the company:\n",
    "Loans marked as Charged Off in the loan_status column represent a loss to the company.\n",
    "\n",
    "- Calculate the percentage of charged off loans historically and the total amount that was paid towards these loans before being charged off."
   ]
  },
  {
   "cell_type": "code",
   "execution_count": 1,
   "metadata": {},
   "outputs": [],
   "source": [
    "import pandas as pd\n",
    "import sys\n",
    "sys.path.append('../')\n",
    "from modules.data_transform import DataTransform\n",
    "from matplotlib import pyplot as plt"
   ]
  },
  {
   "cell_type": "code",
   "execution_count": 2,
   "metadata": {},
   "outputs": [],
   "source": [
    "df = pd.read_csv('../csv_files/imputed_loan_payments.csv')"
   ]
  },
  {
   "cell_type": "code",
   "execution_count": 3,
   "metadata": {},
   "outputs": [
    {
     "name": "stdout",
     "output_type": "stream",
     "text": [
      "id --> int32\n",
      "member_id --> int32\n",
      "loan_amount --> int32\n",
      "funded_amount --> float32\n",
      "funded_amount_inv --> float32\n",
      "term --> int32\n",
      "int_rate --> float32\n",
      "instalment --> float32\n",
      "grade --> category\n",
      "sub_grade --> category\n",
      "employment_length --> int32\n",
      "home_ownership --> category\n",
      "annual_inc --> float32\n",
      "verification_status --> category\n",
      "issue_date --> date\n",
      "loan_status --> category\n",
      "payment_plan --> category\n",
      "purpose --> category\n",
      "dti --> float32\n",
      "delinq_2yrs --> int32\n",
      "earliest_credit_line --> date\n",
      "inq_last_6mths --> int32\n",
      "column not exist\n",
      "column not exist\n",
      "open_accounts --> int32\n",
      "total_accounts --> int32\n",
      "out_prncp --> float32\n",
      "out_prncp_inv --> float32\n",
      "total_payment --> float32\n",
      "total_payment_inv --> float32\n",
      "total_rec_prncp --> float32\n",
      "total_rec_int --> float32\n",
      "total_rec_late_fee --> float32\n",
      "recoveries --> float32\n",
      "collection_recovery_fee --> float32\n",
      "last_payment_date --> date\n",
      "last_payment_amount --> float32\n",
      "column not exist\n",
      "last_credit_pull_date --> date\n",
      "collections_12_mths_ex_med --> int32\n",
      "column not exist\n",
      "policy_code --> int32\n",
      "application_type --> category\n"
     ]
    }
   ],
   "source": [
    "transformer = DataTransform()\n",
    "df = transformer.encode_transform(df)\n",
    "df = transformer.transform_digit_string(df)\n",
    "df = transformer.cast_column_dtypes(df)"
   ]
  },
  {
   "cell_type": "code",
   "execution_count": 4,
   "metadata": {},
   "outputs": [
    {
     "data": {
      "text/plain": [
       "5571"
      ]
     },
     "execution_count": 4,
     "metadata": {},
     "output_type": "execute_result"
    }
   ],
   "source": [
    "# Q. Calculate the percentage of charged off loans historically\n",
    "# Number of loans whose status is charged off\n",
    "count_charged_off = len(df[df['loan_status'] == 'Charged Off'])\n",
    "count_charged_off"
   ]
  },
  {
   "cell_type": "code",
   "execution_count": 5,
   "metadata": {},
   "outputs": [],
   "source": [
    "# Percentage of charged off loans from all loans (count)\n",
    "count_all = len(df)\n",
    "percentage_charged_off = (count_charged_off / count_all) * 100"
   ]
  },
  {
   "cell_type": "code",
   "execution_count": 6,
   "metadata": {},
   "outputs": [
    {
     "data": {
      "text/html": [
       "<div>\n",
       "<style scoped>\n",
       "    .dataframe tbody tr th:only-of-type {\n",
       "        vertical-align: middle;\n",
       "    }\n",
       "\n",
       "    .dataframe tbody tr th {\n",
       "        vertical-align: top;\n",
       "    }\n",
       "\n",
       "    .dataframe thead th {\n",
       "        text-align: right;\n",
       "    }\n",
       "</style>\n",
       "<table border=\"1\" class=\"dataframe\">\n",
       "  <thead>\n",
       "    <tr style=\"text-align: right;\">\n",
       "      <th></th>\n",
       "      <th>0</th>\n",
       "    </tr>\n",
       "  </thead>\n",
       "  <tbody>\n",
       "    <tr>\n",
       "      <th>charged off</th>\n",
       "      <td>10.272722</td>\n",
       "    </tr>\n",
       "    <tr>\n",
       "      <th>not charged Off</th>\n",
       "      <td>89.727278</td>\n",
       "    </tr>\n",
       "  </tbody>\n",
       "</table>\n",
       "</div>"
      ],
      "text/plain": [
       "                         0\n",
       "charged off      10.272722\n",
       "not charged Off  89.727278"
      ]
     },
     "execution_count": 6,
     "metadata": {},
     "output_type": "execute_result"
    }
   ],
   "source": [
    "# Plot charged off loans\n",
    "percentage_charged_off_df = pd.DataFrame(data=[percentage_charged_off, 100 - percentage_charged_off], index=['charged off','not charged Off'])\n",
    "percentage_charged_off_df"
   ]
  },
  {
   "cell_type": "code",
   "execution_count": 7,
   "metadata": {},
   "outputs": [
    {
     "data": {
      "image/png": "[encoded data removed]",
      "text/plain": [
       "<Figure size 640x480 with 1 Axes>"
      ]
     },
     "metadata": {},
     "output_type": "display_data"
    }
   ],
   "source": [
    "percentage_charged_off_df.plot(kind='pie',title='Percentage of loans charged off',legend=False,subplots=True, ylabel='',autopct='%1.1f%%')\n",
    "plt.show()"
   ]
  },
  {
   "cell_type": "code",
   "execution_count": 8,
   "metadata": {},
   "outputs": [
    {
     "name": "stdout",
     "output_type": "stream",
     "text": [
      "7        4134.919922\n",
      "56       1906.510010\n",
      "83        282.779999\n",
      "90       1808.050049\n",
      "117      1654.140015\n",
      "            ...     \n",
      "54152     136.399994\n",
      "54156     666.849976\n",
      "54180     688.349976\n",
      "54194     668.869995\n",
      "54198    2845.820068\n",
      "Name: total_payment_inv, Length: 5571, dtype: float32\n",
      "36152390.614751816\n",
      "639326364.1111662\n"
     ]
    }
   ],
   "source": [
    "# Q. Total amount that was paid towards these loans before being charged off\n",
    "charged_off_df = df['total_payment_inv'][df['loan_status'] == 'Charged Off']\n",
    "print(charged_off_df)\n",
    "charged_off_paid_amount = sum(charged_off_df) \n",
    "print(charged_off_paid_amount)\n",
    "# Compared with sum of payments of all loans\n",
    "total_payment_made = sum(df['total_payment_inv'])\n",
    "print(total_payment_made)"
   ]
  },
  {
   "cell_type": "code",
   "execution_count": 9,
   "metadata": {},
   "outputs": [
    {
     "name": "stdout",
     "output_type": "stream",
     "text": [
      "5.654762988698778\n"
     ]
    }
   ],
   "source": [
    "# Get percentage of sum of total payments from charged off loans \n",
    "percentage_payment_from_charged_off_loans = (charged_off_paid_amount / total_payment_made) * 100\n",
    "print(percentage_payment_from_charged_off_loans)  "
   ]
  },
  {
   "cell_type": "code",
   "execution_count": 10,
   "metadata": {},
   "outputs": [
    {
     "data": {
      "text/html": [
       "<div>\n",
       "<style scoped>\n",
       "    .dataframe tbody tr th:only-of-type {\n",
       "        vertical-align: middle;\n",
       "    }\n",
       "\n",
       "    .dataframe tbody tr th {\n",
       "        vertical-align: top;\n",
       "    }\n",
       "\n",
       "    .dataframe thead th {\n",
       "        text-align: right;\n",
       "    }\n",
       "</style>\n",
       "<table border=\"1\" class=\"dataframe\">\n",
       "  <thead>\n",
       "    <tr style=\"text-align: right;\">\n",
       "      <th></th>\n",
       "      <th>0</th>\n",
       "    </tr>\n",
       "  </thead>\n",
       "  <tbody>\n",
       "    <tr>\n",
       "      <th>charged off</th>\n",
       "      <td>5.654763</td>\n",
       "    </tr>\n",
       "    <tr>\n",
       "      <th>not charged Off</th>\n",
       "      <td>94.345237</td>\n",
       "    </tr>\n",
       "  </tbody>\n",
       "</table>\n",
       "</div>"
      ],
      "text/plain": [
       "                         0\n",
       "charged off       5.654763\n",
       "not charged Off  94.345237"
      ]
     },
     "execution_count": 10,
     "metadata": {},
     "output_type": "execute_result"
    }
   ],
   "source": [
    "# Plot percentage of payment made by charged off loans\n",
    "percentage_charged_off_df = pd.DataFrame(data=[percentage_payment_from_charged_off_loans, 100 - percentage_payment_from_charged_off_loans], index=['charged off','not charged Off'])\n",
    "percentage_charged_off_df"
   ]
  },
  {
   "cell_type": "code",
   "execution_count": 11,
   "metadata": {},
   "outputs": [
    {
     "data": {
      "image/png": "[encoded data removed]",
      "text/plain": [
       "<Figure size 640x480 with 1 Axes>"
      ]
     },
     "metadata": {},
     "output_type": "display_data"
    }
   ],
   "source": [
    "percentage_charged_off_df.plot(kind='pie',title='Percentage of payments made from charged off loans',legend=False,subplots=True, ylabel='',autopct='%1.1f%%')\n",
    "plt.show()"
   ]
  }
 ],
 "metadata": {
  "kernelspec": {
   "display_name": "my_env",
   "language": "python",
   "name": "python3"
  },
  "language_info": {
   "codemirror_mode": {
    "name": "ipython",
    "version": 3
   },
   "file_extension": ".py",
   "mimetype": "text/x-python",
   "name": "python",
   "nbconvert_exporter": "python",
   "pygments_lexer": "ipython3",
   "version": "3.11.8"
  }
 },
 "nbformat": 4,
 "nbformat_minor": 2
}
