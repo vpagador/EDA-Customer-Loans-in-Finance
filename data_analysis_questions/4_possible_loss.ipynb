{
 "cells": [
  {
   "cell_type": "markdown",
   "metadata": {},
   "source": [
    "## 4: Calculating Projected Loss\n",
    "\n",
    "There are customers who are currently behind with their loan payments. This subset of customers represent a risk to company revenue.\n",
    "\n",
    "\n",
    "- What percentage do users' in this bracket currently represent as a percentage of all loans? \n",
    "- Calculate the total amount of customers in this bracket and how much loss the company would incur their status was changed to Charged Off. \n",
    "- What is the projected loss of these loans if the customer were to finish the full loans term?\n",
    "- If customers late on payments converted to Charged Off, what percentage of total expected revenue do these customers and the customers who have already defaulted on their loan represent?"
   ]
  },
  {
   "cell_type": "code",
   "execution_count": 1,
   "metadata": {},
   "outputs": [],
   "source": [
    "import pandas as pd\n",
    "import sys\n",
    "sys.path.append('../')\n",
    "from modules.data_transform import DataTransform\n",
    "from matplotlib import pyplot as plt"
   ]
  },
  {
   "cell_type": "code",
   "execution_count": 2,
   "metadata": {},
   "outputs": [],
   "source": [
    "df = pd.read_csv('../csv_files/imputed_loan_payments.csv')"
   ]
  },
  {
   "cell_type": "code",
   "execution_count": 3,
   "metadata": {},
   "outputs": [
    {
     "name": "stdout",
     "output_type": "stream",
     "text": [
      "id --> int32\n",
      "member_id --> int32\n",
      "loan_amount --> int32\n",
      "funded_amount --> float32\n",
      "funded_amount_inv --> float32\n",
      "term --> int32\n",
      "int_rate --> float32\n",
      "instalment --> float32\n",
      "grade --> float32\n",
      "sub_grade --> float32\n",
      "employment_length --> int32\n",
      "home_ownership --> category\n",
      "annual_inc --> float32\n",
      "verification_status --> category\n",
      "issue_date --> date\n",
      "loan_status --> category\n",
      "payment_plan --> category\n",
      "purpose --> category\n",
      "dti --> float32\n",
      "delinq_2yrs --> int32\n",
      "earliest_credit_line --> date\n",
      "inq_last_6mths --> int32\n",
      "column not exist\n",
      "column not exist\n",
      "open_accounts --> int32\n",
      "total_accounts --> int32\n",
      "out_prncp --> float32\n",
      "out_prncp_inv --> float32\n",
      "total_payment --> float32\n",
      "total_payment_inv --> float32\n",
      "total_rec_prncp --> float32\n",
      "total_rec_int --> float32\n",
      "total_rec_late_fee --> float32\n",
      "recoveries --> float32\n",
      "collection_recovery_fee --> float32\n",
      "last_payment_date --> date\n",
      "last_payment_amount --> float32\n",
      "column not exist\n",
      "last_credit_pull_date --> date\n",
      "collections_12_mths_ex_med --> int32\n",
      "column not exist\n",
      "policy_code --> int32\n",
      "application_type --> category\n"
     ]
    }
   ],
   "source": [
    "transformer = DataTransform()\n",
    "df = transformer.encode_transform(df)\n",
    "df = transformer.cast_column_dtypes(df)"
   ]
  },
  {
   "cell_type": "code",
   "execution_count": 4,
   "metadata": {},
   "outputs": [
    {
     "data": {
      "text/html": [
       "<div>\n",
       "<style scoped>\n",
       "    .dataframe tbody tr th:only-of-type {\n",
       "        vertical-align: middle;\n",
       "    }\n",
       "\n",
       "    .dataframe tbody tr th {\n",
       "        vertical-align: top;\n",
       "    }\n",
       "\n",
       "    .dataframe thead th {\n",
       "        text-align: right;\n",
       "    }\n",
       "</style>\n",
       "<table border=\"1\" class=\"dataframe\">\n",
       "  <thead>\n",
       "    <tr style=\"text-align: right;\">\n",
       "      <th></th>\n",
       "      <th>Unnamed: 0.1</th>\n",
       "      <th>Unnamed: 0</th>\n",
       "      <th>id</th>\n",
       "      <th>member_id</th>\n",
       "      <th>loan_amount</th>\n",
       "      <th>funded_amount</th>\n",
       "      <th>funded_amount_inv</th>\n",
       "      <th>term</th>\n",
       "      <th>int_rate</th>\n",
       "      <th>instalment</th>\n",
       "      <th>...</th>\n",
       "      <th>total_rec_int</th>\n",
       "      <th>total_rec_late_fee</th>\n",
       "      <th>recoveries</th>\n",
       "      <th>collection_recovery_fee</th>\n",
       "      <th>last_payment_date</th>\n",
       "      <th>last_payment_amount</th>\n",
       "      <th>last_credit_pull_date</th>\n",
       "      <th>collections_12_mths_ex_med</th>\n",
       "      <th>policy_code</th>\n",
       "      <th>application_type</th>\n",
       "    </tr>\n",
       "  </thead>\n",
       "  <tbody>\n",
       "    <tr>\n",
       "      <th>17</th>\n",
       "      <td>17</td>\n",
       "      <td>17</td>\n",
       "      <td>38655869</td>\n",
       "      <td>41439673</td>\n",
       "      <td>18825</td>\n",
       "      <td>18825.0</td>\n",
       "      <td>18825.000000</td>\n",
       "      <td>60</td>\n",
       "      <td>13.660000</td>\n",
       "      <td>434.720001</td>\n",
       "      <td>...</td>\n",
       "      <td>1807.280029</td>\n",
       "      <td>0.000000</td>\n",
       "      <td>0.0</td>\n",
       "      <td>0.0</td>\n",
       "      <td>2021-10-01</td>\n",
       "      <td>434.720001</td>\n",
       "      <td>2022-01-01</td>\n",
       "      <td>0</td>\n",
       "      <td>1</td>\n",
       "      <td>INDIVIDUAL</td>\n",
       "    </tr>\n",
       "    <tr>\n",
       "      <th>140</th>\n",
       "      <td>140</td>\n",
       "      <td>140</td>\n",
       "      <td>38644147</td>\n",
       "      <td>41427862</td>\n",
       "      <td>15600</td>\n",
       "      <td>15600.0</td>\n",
       "      <td>15600.000000</td>\n",
       "      <td>36</td>\n",
       "      <td>14.990000</td>\n",
       "      <td>540.710022</td>\n",
       "      <td>...</td>\n",
       "      <td>1734.689941</td>\n",
       "      <td>0.000000</td>\n",
       "      <td>0.0</td>\n",
       "      <td>0.0</td>\n",
       "      <td>2021-11-01</td>\n",
       "      <td>540.710022</td>\n",
       "      <td>2022-01-01</td>\n",
       "      <td>0</td>\n",
       "      <td>1</td>\n",
       "      <td>INDIVIDUAL</td>\n",
       "    </tr>\n",
       "    <tr>\n",
       "      <th>168</th>\n",
       "      <td>168</td>\n",
       "      <td>168</td>\n",
       "      <td>38635317</td>\n",
       "      <td>41419102</td>\n",
       "      <td>6000</td>\n",
       "      <td>6000.0</td>\n",
       "      <td>6000.000000</td>\n",
       "      <td>36</td>\n",
       "      <td>8.670000</td>\n",
       "      <td>189.880005</td>\n",
       "      <td>...</td>\n",
       "      <td>380.269989</td>\n",
       "      <td>15.000000</td>\n",
       "      <td>0.0</td>\n",
       "      <td>0.0</td>\n",
       "      <td>2021-11-01</td>\n",
       "      <td>394.760010</td>\n",
       "      <td>2022-01-01</td>\n",
       "      <td>0</td>\n",
       "      <td>1</td>\n",
       "      <td>INDIVIDUAL</td>\n",
       "    </tr>\n",
       "    <tr>\n",
       "      <th>171</th>\n",
       "      <td>171</td>\n",
       "      <td>171</td>\n",
       "      <td>38635273</td>\n",
       "      <td>41419056</td>\n",
       "      <td>15000</td>\n",
       "      <td>15000.0</td>\n",
       "      <td>15000.000000</td>\n",
       "      <td>36</td>\n",
       "      <td>13.507329</td>\n",
       "      <td>471.369995</td>\n",
       "      <td>...</td>\n",
       "      <td>740.690002</td>\n",
       "      <td>0.000000</td>\n",
       "      <td>0.0</td>\n",
       "      <td>0.0</td>\n",
       "      <td>2021-09-01</td>\n",
       "      <td>471.369995</td>\n",
       "      <td>2021-09-01</td>\n",
       "      <td>0</td>\n",
       "      <td>1</td>\n",
       "      <td>INDIVIDUAL</td>\n",
       "    </tr>\n",
       "    <tr>\n",
       "      <th>243</th>\n",
       "      <td>243</td>\n",
       "      <td>243</td>\n",
       "      <td>38625326</td>\n",
       "      <td>41409103</td>\n",
       "      <td>5000</td>\n",
       "      <td>5000.0</td>\n",
       "      <td>5000.000000</td>\n",
       "      <td>36</td>\n",
       "      <td>11.440000</td>\n",
       "      <td>164.740005</td>\n",
       "      <td>...</td>\n",
       "      <td>457.980011</td>\n",
       "      <td>0.000000</td>\n",
       "      <td>0.0</td>\n",
       "      <td>0.0</td>\n",
       "      <td>2021-12-01</td>\n",
       "      <td>164.740005</td>\n",
       "      <td>2022-01-01</td>\n",
       "      <td>0</td>\n",
       "      <td>1</td>\n",
       "      <td>INDIVIDUAL</td>\n",
       "    </tr>\n",
       "    <tr>\n",
       "      <th>...</th>\n",
       "      <td>...</td>\n",
       "      <td>...</td>\n",
       "      <td>...</td>\n",
       "      <td>...</td>\n",
       "      <td>...</td>\n",
       "      <td>...</td>\n",
       "      <td>...</td>\n",
       "      <td>...</td>\n",
       "      <td>...</td>\n",
       "      <td>...</td>\n",
       "      <td>...</td>\n",
       "      <td>...</td>\n",
       "      <td>...</td>\n",
       "      <td>...</td>\n",
       "      <td>...</td>\n",
       "      <td>...</td>\n",
       "      <td>...</td>\n",
       "      <td>...</td>\n",
       "      <td>...</td>\n",
       "      <td>...</td>\n",
       "      <td>...</td>\n",
       "    </tr>\n",
       "    <tr>\n",
       "      <th>44095</th>\n",
       "      <td>44095</td>\n",
       "      <td>44095</td>\n",
       "      <td>635663</td>\n",
       "      <td>814313</td>\n",
       "      <td>12000</td>\n",
       "      <td>12000.0</td>\n",
       "      <td>11793.180664</td>\n",
       "      <td>60</td>\n",
       "      <td>9.620000</td>\n",
       "      <td>252.729996</td>\n",
       "      <td>...</td>\n",
       "      <td>3154.120117</td>\n",
       "      <td>0.000000</td>\n",
       "      <td>0.0</td>\n",
       "      <td>0.0</td>\n",
       "      <td>2021-12-01</td>\n",
       "      <td>252.729996</td>\n",
       "      <td>2021-11-01</td>\n",
       "      <td>0</td>\n",
       "      <td>1</td>\n",
       "      <td>INDIVIDUAL</td>\n",
       "    </tr>\n",
       "    <tr>\n",
       "      <th>44497</th>\n",
       "      <td>44497</td>\n",
       "      <td>44497</td>\n",
       "      <td>624521</td>\n",
       "      <td>800330</td>\n",
       "      <td>15000</td>\n",
       "      <td>15000.0</td>\n",
       "      <td>14975.000000</td>\n",
       "      <td>60</td>\n",
       "      <td>17.430000</td>\n",
       "      <td>376.269989</td>\n",
       "      <td>...</td>\n",
       "      <td>7535.399902</td>\n",
       "      <td>0.000000</td>\n",
       "      <td>0.0</td>\n",
       "      <td>0.0</td>\n",
       "      <td>2022-01-01</td>\n",
       "      <td>303.970001</td>\n",
       "      <td>2022-01-01</td>\n",
       "      <td>0</td>\n",
       "      <td>1</td>\n",
       "      <td>INDIVIDUAL</td>\n",
       "    </tr>\n",
       "    <tr>\n",
       "      <th>45374</th>\n",
       "      <td>45374</td>\n",
       "      <td>45374</td>\n",
       "      <td>601614</td>\n",
       "      <td>771967</td>\n",
       "      <td>18000</td>\n",
       "      <td>18000.0</td>\n",
       "      <td>17900.000000</td>\n",
       "      <td>60</td>\n",
       "      <td>15.200000</td>\n",
       "      <td>430.119995</td>\n",
       "      <td>...</td>\n",
       "      <td>7761.189941</td>\n",
       "      <td>0.000000</td>\n",
       "      <td>0.0</td>\n",
       "      <td>0.0</td>\n",
       "      <td>2021-10-01</td>\n",
       "      <td>435.459991</td>\n",
       "      <td>2022-01-01</td>\n",
       "      <td>0</td>\n",
       "      <td>1</td>\n",
       "      <td>INDIVIDUAL</td>\n",
       "    </tr>\n",
       "    <tr>\n",
       "      <th>45610</th>\n",
       "      <td>45610</td>\n",
       "      <td>45610</td>\n",
       "      <td>595187</td>\n",
       "      <td>764195</td>\n",
       "      <td>12000</td>\n",
       "      <td>12000.0</td>\n",
       "      <td>11950.000000</td>\n",
       "      <td>60</td>\n",
       "      <td>10.750000</td>\n",
       "      <td>259.420013</td>\n",
       "      <td>...</td>\n",
       "      <td>3572.010010</td>\n",
       "      <td>15.000000</td>\n",
       "      <td>0.0</td>\n",
       "      <td>0.0</td>\n",
       "      <td>2021-12-01</td>\n",
       "      <td>268.380005</td>\n",
       "      <td>2022-01-01</td>\n",
       "      <td>0</td>\n",
       "      <td>1</td>\n",
       "      <td>INDIVIDUAL</td>\n",
       "    </tr>\n",
       "    <tr>\n",
       "      <th>46737</th>\n",
       "      <td>46737</td>\n",
       "      <td>46737</td>\n",
       "      <td>560150</td>\n",
       "      <td>720996</td>\n",
       "      <td>25000</td>\n",
       "      <td>25000.0</td>\n",
       "      <td>24975.000000</td>\n",
       "      <td>60</td>\n",
       "      <td>13.610000</td>\n",
       "      <td>576.669983</td>\n",
       "      <td>...</td>\n",
       "      <td>9738.099609</td>\n",
       "      <td>28.796562</td>\n",
       "      <td>0.0</td>\n",
       "      <td>0.0</td>\n",
       "      <td>2022-01-01</td>\n",
       "      <td>576.679993</td>\n",
       "      <td>2022-01-01</td>\n",
       "      <td>0</td>\n",
       "      <td>1</td>\n",
       "      <td>INDIVIDUAL</td>\n",
       "    </tr>\n",
       "  </tbody>\n",
       "</table>\n",
       "<p>686 rows × 41 columns</p>\n",
       "</div>"
      ],
      "text/plain": [
       "       Unnamed: 0.1  Unnamed: 0        id  member_id  loan_amount  \\\n",
       "17               17          17  38655869   41439673        18825   \n",
       "140             140         140  38644147   41427862        15600   \n",
       "168             168         168  38635317   41419102         6000   \n",
       "171             171         171  38635273   41419056        15000   \n",
       "243             243         243  38625326   41409103         5000   \n",
       "...             ...         ...       ...        ...          ...   \n",
       "44095         44095       44095    635663     814313        12000   \n",
       "44497         44497       44497    624521     800330        15000   \n",
       "45374         45374       45374    601614     771967        18000   \n",
       "45610         45610       45610    595187     764195        12000   \n",
       "46737         46737       46737    560150     720996        25000   \n",
       "\n",
       "       funded_amount  funded_amount_inv  term   int_rate  instalment  ...  \\\n",
       "17           18825.0       18825.000000    60  13.660000  434.720001  ...   \n",
       "140          15600.0       15600.000000    36  14.990000  540.710022  ...   \n",
       "168           6000.0        6000.000000    36   8.670000  189.880005  ...   \n",
       "171          15000.0       15000.000000    36  13.507329  471.369995  ...   \n",
       "243           5000.0        5000.000000    36  11.440000  164.740005  ...   \n",
       "...              ...                ...   ...        ...         ...  ...   \n",
       "44095        12000.0       11793.180664    60   9.620000  252.729996  ...   \n",
       "44497        15000.0       14975.000000    60  17.430000  376.269989  ...   \n",
       "45374        18000.0       17900.000000    60  15.200000  430.119995  ...   \n",
       "45610        12000.0       11950.000000    60  10.750000  259.420013  ...   \n",
       "46737        25000.0       24975.000000    60  13.610000  576.669983  ...   \n",
       "\n",
       "       total_rec_int  total_rec_late_fee  recoveries collection_recovery_fee  \\\n",
       "17       1807.280029            0.000000         0.0                     0.0   \n",
       "140      1734.689941            0.000000         0.0                     0.0   \n",
       "168       380.269989           15.000000         0.0                     0.0   \n",
       "171       740.690002            0.000000         0.0                     0.0   \n",
       "243       457.980011            0.000000         0.0                     0.0   \n",
       "...              ...                 ...         ...                     ...   \n",
       "44095    3154.120117            0.000000         0.0                     0.0   \n",
       "44497    7535.399902            0.000000         0.0                     0.0   \n",
       "45374    7761.189941            0.000000         0.0                     0.0   \n",
       "45610    3572.010010           15.000000         0.0                     0.0   \n",
       "46737    9738.099609           28.796562         0.0                     0.0   \n",
       "\n",
       "       last_payment_date last_payment_amount last_credit_pull_date  \\\n",
       "17            2021-10-01          434.720001            2022-01-01   \n",
       "140           2021-11-01          540.710022            2022-01-01   \n",
       "168           2021-11-01          394.760010            2022-01-01   \n",
       "171           2021-09-01          471.369995            2021-09-01   \n",
       "243           2021-12-01          164.740005            2022-01-01   \n",
       "...                  ...                 ...                   ...   \n",
       "44095         2021-12-01          252.729996            2021-11-01   \n",
       "44497         2022-01-01          303.970001            2022-01-01   \n",
       "45374         2021-10-01          435.459991            2022-01-01   \n",
       "45610         2021-12-01          268.380005            2022-01-01   \n",
       "46737         2022-01-01          576.679993            2022-01-01   \n",
       "\n",
       "      collections_12_mths_ex_med policy_code application_type  \n",
       "17                             0           1       INDIVIDUAL  \n",
       "140                            0           1       INDIVIDUAL  \n",
       "168                            0           1       INDIVIDUAL  \n",
       "171                            0           1       INDIVIDUAL  \n",
       "243                            0           1       INDIVIDUAL  \n",
       "...                          ...         ...              ...  \n",
       "44095                          0           1       INDIVIDUAL  \n",
       "44497                          0           1       INDIVIDUAL  \n",
       "45374                          0           1       INDIVIDUAL  \n",
       "45610                          0           1       INDIVIDUAL  \n",
       "46737                          0           1       INDIVIDUAL  \n",
       "\n",
       "[686 rows x 41 columns]"
      ]
     },
     "execution_count": 4,
     "metadata": {},
     "output_type": "execute_result"
    }
   ],
   "source": [
    "# What percentage do users' in this bracket currently represent as a percentage of all loans?\n",
    "late_payments_df = df[df['loan_status'].str.startswith('Late')]\n",
    "late_payments_df "
   ]
  },
  {
   "cell_type": "code",
   "execution_count": 5,
   "metadata": {},
   "outputs": [
    {
     "data": {
      "text/plain": [
       "1.2649591562021723"
      ]
     },
     "execution_count": 5,
     "metadata": {},
     "output_type": "execute_result"
    }
   ],
   "source": [
    "percentage_late_loans = (len(late_payments_df) / len(df)) * 100\n",
    "percentage_late_loans"
   ]
  },
  {
   "cell_type": "code",
   "execution_count": 6,
   "metadata": {},
   "outputs": [
    {
     "data": {
      "text/plain": [
       "98.73504084379783"
      ]
     },
     "execution_count": 6,
     "metadata": {},
     "output_type": "execute_result"
    }
   ],
   "source": [
    "percentage_non_late_loans = 100 - percentage_late_loans\n",
    "percentage_non_late_loans"
   ]
  },
  {
   "cell_type": "code",
   "execution_count": 7,
   "metadata": {},
   "outputs": [
    {
     "data": {
      "text/html": [
       "<div>\n",
       "<style scoped>\n",
       "    .dataframe tbody tr th:only-of-type {\n",
       "        vertical-align: middle;\n",
       "    }\n",
       "\n",
       "    .dataframe tbody tr th {\n",
       "        vertical-align: top;\n",
       "    }\n",
       "\n",
       "    .dataframe thead th {\n",
       "        text-align: right;\n",
       "    }\n",
       "</style>\n",
       "<table border=\"1\" class=\"dataframe\">\n",
       "  <thead>\n",
       "    <tr style=\"text-align: right;\">\n",
       "      <th></th>\n",
       "      <th>0</th>\n",
       "    </tr>\n",
       "  </thead>\n",
       "  <tbody>\n",
       "    <tr>\n",
       "      <th>percentage late loans</th>\n",
       "      <td>1.264959</td>\n",
       "    </tr>\n",
       "    <tr>\n",
       "      <th>percentage non-late loans</th>\n",
       "      <td>98.735041</td>\n",
       "    </tr>\n",
       "  </tbody>\n",
       "</table>\n",
       "</div>"
      ],
      "text/plain": [
       "                                   0\n",
       "percentage late loans       1.264959\n",
       "percentage non-late loans  98.735041"
      ]
     },
     "execution_count": 7,
     "metadata": {},
     "output_type": "execute_result"
    }
   ],
   "source": [
    "percentage_late_loans_df = pd.DataFrame(data = [percentage_late_loans,percentage_non_late_loans],index=['percentage late loans','percentage non-late loans'])\n",
    "percentage_late_loans_df"
   ]
  },
  {
   "cell_type": "code",
   "execution_count": 8,
   "metadata": {},
   "outputs": [
    {
     "data": {
      "image/png": "[encoded data removed]",
      "text/plain": [
       "<Figure size 640x480 with 1 Axes>"
      ]
     },
     "metadata": {},
     "output_type": "display_data"
    }
   ],
   "source": [
    "percentage_late_loans_df.plot(kind='pie',title='Percentage of late loans',legend=False,subplots=True, ylabel='',autopct='%1.1f%%')\n",
    "plt.show()"
   ]
  },
  {
   "cell_type": "code",
   "execution_count": 9,
   "metadata": {},
   "outputs": [
    {
     "name": "stdout",
     "output_type": "stream",
     "text": [
      "Number of currently late loans: 686\n"
     ]
    }
   ],
   "source": [
    "# Calculate the total amount of customers in this bracket and how much loss the company would incur their status was changed to Charged Off. \n",
    "# Total amount of customers (that fall in late payments)\n",
    "total_late_loans = len(late_payments_df)\n",
    "print(f\"Number of currently late loans: {total_late_loans}\")"
   ]
  },
  {
   "cell_type": "code",
   "execution_count": 10,
   "metadata": {},
   "outputs": [
    {
     "name": "stdout",
     "output_type": "stream",
     "text": [
      "potential loss from late loans if charged off:  3407790.0095825195\n"
     ]
    }
   ],
   "source": [
    "# Q. How much loss would the company incur if their status was changed to Charged Off?\n",
    "potential_loss_df = late_payments_df['funded_amount_inv'] - late_payments_df['total_payment_inv']\n",
    "potential_loss_sum = sum(potential_loss_df)\n",
    "print('potential loss from late loans if charged off: ', potential_loss_sum)"
   ]
  },
  {
   "cell_type": "code",
   "execution_count": 11,
   "metadata": {},
   "outputs": [],
   "source": [
    "# Q. What is the projected loss of these loans if the customer were to finish the full loans term?\n",
    "# (Come back to this)\n"
   ]
  },
  {
   "cell_type": "code",
   "execution_count": 12,
   "metadata": {},
   "outputs": [
    {
     "name": "stdout",
     "output_type": "stream",
     "text": [
      "Total expected revenue from charged off and late loans (if they become charged off): 40224823.629757926\n"
     ]
    }
   ],
   "source": [
    "# If the customers late on payments converted to Charged Off, what percentage of expected total revenue do these customers and the customers who have already defaulted on their loan represent?\n",
    "df_charged_off = df[df['loan_status'] == 'Charged Off']\n",
    "lost_revenue_charged_off = df_charged_off['funded_amount_inv'] - df_charged_off['total_payment_inv']\n",
    "lost_revenue_charged_off_sum = sum(lost_revenue_charged_off)\n",
    "\n",
    "\n",
    "total_expected_revenue_sum = potential_loss_sum + lost_revenue_charged_off_sum\n",
    "print(f\"Total expected revenue from charged off and late loans (if they become charged off): {total_expected_revenue_sum}\")"
   ]
  },
  {
   "cell_type": "code",
   "execution_count": 13,
   "metadata": {},
   "outputs": [
    {
     "name": "stdout",
     "output_type": "stream",
     "text": [
      "Total revenue from payments made: 63107332.64526829\n"
     ]
    }
   ],
   "source": [
    "total_revenue =  df['funded_amount_inv'] - df['total_payment_inv']\n",
    "total_revenue_sum = sum(total_revenue)\n",
    "print(f\"Total revenue from payments made: {total_revenue_sum}\")"
   ]
  },
  {
   "cell_type": "code",
   "execution_count": 14,
   "metadata": {},
   "outputs": [
    {
     "name": "stdout",
     "output_type": "stream",
     "text": [
      "Percentage of expected revenue from charged off and late loans (if they became charged off): 63.740332452117876\n",
      "Percentage of secured revenue: 36.259667547882124\n"
     ]
    }
   ],
   "source": [
    "percentage_expected_revenue = (total_expected_revenue_sum / total_revenue_sum) * 100\n",
    "print(f\"Percentage of expected revenue from charged off and late loans (if they became charged off): {percentage_expected_revenue}\") \n",
    "\n",
    "percentage_secured_revenue = 100 - percentage_expected_revenue \n",
    "print(f\"Percentage of secured revenue: {percentage_secured_revenue}\")"
   ]
  },
  {
   "cell_type": "code",
   "execution_count": 15,
   "metadata": {},
   "outputs": [
    {
     "data": {
      "text/html": [
       "<div>\n",
       "<style scoped>\n",
       "    .dataframe tbody tr th:only-of-type {\n",
       "        vertical-align: middle;\n",
       "    }\n",
       "\n",
       "    .dataframe tbody tr th {\n",
       "        vertical-align: top;\n",
       "    }\n",
       "\n",
       "    .dataframe thead th {\n",
       "        text-align: right;\n",
       "    }\n",
       "</style>\n",
       "<table border=\"1\" class=\"dataframe\">\n",
       "  <thead>\n",
       "    <tr style=\"text-align: right;\">\n",
       "      <th></th>\n",
       "      <th>0</th>\n",
       "    </tr>\n",
       "  </thead>\n",
       "  <tbody>\n",
       "    <tr>\n",
       "      <th>percentage expected revenue</th>\n",
       "      <td>63.740332</td>\n",
       "    </tr>\n",
       "    <tr>\n",
       "      <th>percentage secured revenue</th>\n",
       "      <td>36.259668</td>\n",
       "    </tr>\n",
       "  </tbody>\n",
       "</table>\n",
       "</div>"
      ],
      "text/plain": [
       "                                     0\n",
       "percentage expected revenue  63.740332\n",
       "percentage secured revenue   36.259668"
      ]
     },
     "execution_count": 15,
     "metadata": {},
     "output_type": "execute_result"
    }
   ],
   "source": [
    "percentage_expected_revenue_df = pd.DataFrame(data = [percentage_expected_revenue, percentage_secured_revenue],index=['percentage expected revenue','percentage secured revenue'])\n",
    "percentage_expected_revenue_df"
   ]
  },
  {
   "cell_type": "code",
   "execution_count": 16,
   "metadata": {},
   "outputs": [
    {
     "data": {
      "image/png": "[encoded data removed]",
      "text/plain": [
       "<Figure size 640x480 with 1 Axes>"
      ]
     },
     "metadata": {},
     "output_type": "display_data"
    }
   ],
   "source": [
    "percentage_expected_revenue_df.plot(kind='pie',title='Percentage of expected revenue from charged off and late loans (if they were charged off)',legend=False,subplots=True, ylabel='',autopct='%1.1f%%')\n",
    "plt.show()"
   ]
  }
 ],
 "metadata": {
  "kernelspec": {
   "display_name": "my_env",
   "language": "python",
   "name": "python3"
  },
  "language_info": {
   "codemirror_mode": {
    "name": "ipython",
    "version": 3
   },
   "file_extension": ".py",
   "mimetype": "text/x-python",
   "name": "python",
   "nbconvert_exporter": "python",
   "pygments_lexer": "ipython3",
   "version": "3.11.8"
  }
 },
 "nbformat": 4,
 "nbformat_minor": 2
}
