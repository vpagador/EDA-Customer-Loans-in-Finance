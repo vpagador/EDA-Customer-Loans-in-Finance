{
 "cells": [
  {
   "cell_type": "markdown",
   "metadata": {},
   "source": [
    "## 4: Indicators of Loss\n",
    "\n",
    "In this task you will be analysing the data to visualise the possible indicators that a customer will not be able to pay the loan.\n",
    "\n",
    "\n",
    "You will want to compare columns which might be indicators against customers who have already stopped paying and customers who are currently behind on payments.\n",
    "\n",
    "\n",
    "Here are some example columns that might indicate that a user might not pay the loan:\n",
    "\n",
    "Does the grade of the loan have effect on customers not paying?\n",
    "Is the purpose for the loan likely to have an effect?\n",
    "Does the home_ownership value contribute to the likelihood a customer won't pay?\n",
    "To help identify which columns will be of interest, create a subset of these users.\n",
    "\n",
    "\n",
    "- Make the analysis and determine the columns are contributing to loans not being paid off and visualise any interesting indicators.\n",
    "\n",
    "- Compare these indicators between loans already charged off and loans which could change to charged off to check if these same factors apply to loans which have the potential to change to \"Charged Off\"."
   ]
  },
  {
   "cell_type": "code",
   "execution_count": 1,
   "metadata": {},
   "outputs": [],
   "source": [
    "import pandas as pd\n",
    "import sys\n",
    "sys.path.append('../')\n",
    "from modules.data_transform import DataTransform\n",
    "from matplotlib import pyplot as plt"
   ]
  },
  {
   "cell_type": "code",
   "execution_count": 2,
   "metadata": {},
   "outputs": [],
   "source": [
    "df = pd.read_csv('../csv_files/imputed_loan_payments.csv')"
   ]
  },
  {
   "cell_type": "code",
   "execution_count": 3,
   "metadata": {},
   "outputs": [
    {
     "name": "stdout",
     "output_type": "stream",
     "text": [
      "id --> int32\n",
      "member_id --> int32\n",
      "loan_amount --> int32\n",
      "funded_amount --> float32\n",
      "funded_amount_inv --> float32\n",
      "term --> int32\n",
      "int_rate --> float32\n",
      "instalment --> float32\n",
      "grade --> category\n",
      "sub_grade --> category\n",
      "employment_length --> int32\n",
      "home_ownership --> category\n",
      "annual_inc --> float32\n",
      "verification_status --> category\n",
      "issue_date --> date\n",
      "loan_status --> category\n",
      "payment_plan --> category\n",
      "purpose --> category\n",
      "dti --> float32\n",
      "delinq_2yrs --> int32\n",
      "earliest_credit_line --> date\n",
      "inq_last_6mths --> int32\n",
      "column not exist\n",
      "column not exist\n",
      "open_accounts --> int32\n",
      "total_accounts --> int32\n",
      "out_prncp --> float32\n",
      "out_prncp_inv --> float32\n",
      "total_payment --> float32\n",
      "total_payment_inv --> float32\n",
      "total_rec_prncp --> float32\n",
      "total_rec_int --> float32\n",
      "total_rec_late_fee --> float32\n",
      "recoveries --> float32\n",
      "collection_recovery_fee --> float32\n",
      "last_payment_date --> date\n",
      "last_payment_amount --> float32\n",
      "column not exist\n",
      "last_credit_pull_date --> date\n",
      "collections_12_mths_ex_med --> int32\n",
      "column not exist\n",
      "policy_code --> int32\n",
      "application_type --> category\n"
     ]
    }
   ],
   "source": [
    "transformer = DataTransform()\n",
    "df = transformer.encode_transform(df)\n",
    "df = transformer.cast_column_dtypes(df)"
   ]
  }
 ],
 "metadata": {
  "kernelspec": {
   "display_name": "my_env",
   "language": "python",
   "name": "python3"
  },
  "language_info": {
   "codemirror_mode": {
    "name": "ipython",
    "version": 3
   },
   "file_extension": ".py",
   "mimetype": "text/x-python",
   "name": "python",
   "nbconvert_exporter": "python",
   "pygments_lexer": "ipython3",
   "version": "3.11.8"
  }
 },
 "nbformat": 4,
 "nbformat_minor": 2
}
