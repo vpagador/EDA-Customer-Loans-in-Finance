{
 "cells": [
  {
   "cell_type": "code",
   "execution_count": 1,
   "metadata": {},
   "outputs": [],
   "source": [
    "import pandas as pd\n",
    "import numpy as np\n",
    "from data_transform import DataTransform\n",
    "from dataframeinfo import DataFrameInfo"
   ]
  },
  {
   "cell_type": "code",
   "execution_count": 2,
   "metadata": {},
   "outputs": [],
   "source": [
    "df = pd.read_csv('loan_payments.csv')"
   ]
  },
  {
   "cell_type": "code",
   "execution_count": 3,
   "metadata": {},
   "outputs": [
    {
     "data": {
      "text/plain": [
       "Unnamed: 0                                0\n",
       "id                                 38676116\n",
       "member_id                          41461848\n",
       "loan_amount                            8000\n",
       "funded_amount                        8000.0\n",
       "funded_amount_inv                    8000.0\n",
       "term                              36 months\n",
       "int_rate                               7.49\n",
       "instalment                           248.82\n",
       "grade                                     A\n",
       "sub_grade                                A4\n",
       "employment_length                   5 years\n",
       "home_ownership                     MORTGAGE\n",
       "annual_inc                          46000.0\n",
       "verification_status            Not Verified\n",
       "issue_date                         Jan-2021\n",
       "loan_status                         Current\n",
       "payment_plan                              n\n",
       "purpose                         credit_card\n",
       "dti                                   19.54\n",
       "delinq_2yrs                               2\n",
       "earliest_credit_line               Oct-1987\n",
       "inq_last_6mths                            1\n",
       "mths_since_last_delinq                  5.0\n",
       "mths_since_last_record                  NaN\n",
       "open_accounts                            12\n",
       "total_accounts                           27\n",
       "out_prncp                            5529.7\n",
       "out_prncp_inv                        5529.7\n",
       "total_payment                       2982.51\n",
       "total_payment_inv                   2982.51\n",
       "total_rec_prncp                      2470.3\n",
       "total_rec_int                        512.21\n",
       "total_rec_late_fee                      0.0\n",
       "recoveries                              0.0\n",
       "collection_recovery_fee                 0.0\n",
       "last_payment_date                  Jan-2022\n",
       "last_payment_amount                  248.82\n",
       "next_payment_date                  Feb-2022\n",
       "last_credit_pull_date              Jan-2022\n",
       "collections_12_mths_ex_med              0.0\n",
       "mths_since_last_major_derog             5.0\n",
       "policy_code                               1\n",
       "application_type                 INDIVIDUAL\n",
       "Name: 0, dtype: object"
      ]
     },
     "execution_count": 3,
     "metadata": {},
     "output_type": "execute_result"
    }
   ],
   "source": [
    "df.loc[0]"
   ]
  },
  {
   "cell_type": "code",
   "execution_count": 4,
   "metadata": {},
   "outputs": [
    {
     "data": {
      "text/plain": [
       "numpy.int64"
      ]
     },
     "execution_count": 4,
     "metadata": {},
     "output_type": "execute_result"
    }
   ],
   "source": [
    "type(df['id'][0])"
   ]
  },
  {
   "cell_type": "code",
   "execution_count": 5,
   "metadata": {},
   "outputs": [
    {
     "data": {
      "text/plain": [
       "str"
      ]
     },
     "execution_count": 5,
     "metadata": {},
     "output_type": "execute_result"
    }
   ],
   "source": [
    "type(df['term'][0])"
   ]
  },
  {
   "cell_type": "code",
   "execution_count": 6,
   "metadata": {},
   "outputs": [
    {
     "data": {
      "text/plain": [
       "numpy.float64"
      ]
     },
     "execution_count": 6,
     "metadata": {},
     "output_type": "execute_result"
    }
   ],
   "source": [
    "type(df['mths_since_last_record'][0])"
   ]
  },
  {
   "cell_type": "code",
   "execution_count": 7,
   "metadata": {},
   "outputs": [
    {
     "data": {
      "text/plain": [
       "True"
      ]
     },
     "execution_count": 7,
     "metadata": {},
     "output_type": "execute_result"
    }
   ],
   "source": [
    "isinstance(df['mths_since_last_record'][0],float)"
   ]
  },
  {
   "cell_type": "code",
   "execution_count": 8,
   "metadata": {},
   "outputs": [
    {
     "data": {
      "text/plain": [
       "False"
      ]
     },
     "execution_count": 8,
     "metadata": {},
     "output_type": "execute_result"
    }
   ],
   "source": [
    "isinstance(df['id'][0],str)"
   ]
  },
  {
   "cell_type": "code",
   "execution_count": 9,
   "metadata": {},
   "outputs": [
    {
     "data": {
      "text/plain": [
       "str"
      ]
     },
     "execution_count": 9,
     "metadata": {},
     "output_type": "execute_result"
    }
   ],
   "source": [
    "type(df['issue_date'][0])"
   ]
  },
  {
   "cell_type": "code",
   "execution_count": 10,
   "metadata": {},
   "outputs": [],
   "source": [
    "time_col = df['issue_date'][0:6].apply(pd.to_datetime, format = 'mixed')"
   ]
  },
  {
   "cell_type": "code",
   "execution_count": 11,
   "metadata": {},
   "outputs": [
    {
     "data": {
      "text/plain": [
       "True"
      ]
     },
     "execution_count": 11,
     "metadata": {},
     "output_type": "execute_result"
    }
   ],
   "source": [
    "type(time_col[0]) == pd._libs.tslibs.timestamps.Timestamp"
   ]
  },
  {
   "cell_type": "code",
   "execution_count": 12,
   "metadata": {},
   "outputs": [
    {
     "name": "stdout",
     "output_type": "stream",
     "text": [
      "hello\n"
     ]
    }
   ],
   "source": [
    "try:\n",
    "    is_column_datetime = df['issue_date'].apply(pd.to_datetime, format = 'mixed')\n",
    "    if type(is_column_datetime[0]) == pd._libs.tslibs.timestamps.Timestamp:\n",
    "        print('hello')\n",
    "\n",
    "except:\n",
    "    pass"
   ]
  },
  {
   "cell_type": "code",
   "execution_count": 13,
   "metadata": {},
   "outputs": [
    {
     "name": "stdout",
     "output_type": "stream",
     "text": [
      "hello\n"
     ]
    }
   ],
   "source": [
    "try:\n",
    "    is_column_datetime = df['issue_date'][0:6].apply(pd.to_datetime, format = 'mixed')\n",
    "    if type(is_column_datetime[0]) == pd._libs.tslibs.timestamps.Timestamp:\n",
    "        print('hello')\n",
    "\n",
    "except:\n",
    "    pass"
   ]
  },
  {
   "cell_type": "code",
   "execution_count": 14,
   "metadata": {},
   "outputs": [],
   "source": [
    "numerical_columns = []\n",
    "non_numerical_columns = []\n",
    "\n",
    "for col in df.columns:\n",
    "    if type(df[col][0]) in [np.int64, np.float64]:\n",
    "        numerical_columns.append(col)\n",
    "    else:\n",
    "        non_numerical_columns.append(col)"
   ]
  },
  {
   "cell_type": "code",
   "execution_count": 15,
   "metadata": {},
   "outputs": [
    {
     "name": "stdout",
     "output_type": "stream",
     "text": [
      "['Unnamed: 0', 'id', 'member_id', 'loan_amount', 'funded_amount', 'funded_amount_inv', 'int_rate', 'instalment', 'annual_inc', 'dti', 'delinq_2yrs', 'inq_last_6mths', 'mths_since_last_delinq', 'mths_since_last_record', 'open_accounts', 'total_accounts', 'out_prncp', 'out_prncp_inv', 'total_payment', 'total_payment_inv', 'total_rec_prncp', 'total_rec_int', 'total_rec_late_fee', 'recoveries', 'collection_recovery_fee', 'last_payment_amount', 'collections_12_mths_ex_med', 'mths_since_last_major_derog', 'policy_code']\n"
     ]
    }
   ],
   "source": [
    "print(numerical_columns)"
   ]
  },
  {
   "cell_type": "code",
   "execution_count": 16,
   "metadata": {},
   "outputs": [
    {
     "name": "stdout",
     "output_type": "stream",
     "text": [
      "['term', 'grade', 'sub_grade', 'employment_length', 'home_ownership', 'verification_status', 'issue_date', 'loan_status', 'payment_plan', 'purpose', 'earliest_credit_line', 'last_payment_date', 'next_payment_date', 'last_credit_pull_date', 'application_type']\n"
     ]
    }
   ],
   "source": [
    "print(non_numerical_columns)"
   ]
  },
  {
   "cell_type": "code",
   "execution_count": 17,
   "metadata": {},
   "outputs": [
    {
     "data": {
      "text/plain": [
       "True"
      ]
     },
     "execution_count": 17,
     "metadata": {},
     "output_type": "execute_result"
    }
   ],
   "source": [
    "len(df.columns) == len(non_numerical_columns) + len(numerical_columns)"
   ]
  },
  {
   "cell_type": "code",
   "execution_count": 18,
   "metadata": {},
   "outputs": [],
   "source": [
    "datetime_columns = []\n",
    "categorical_columns = []\n",
    "for col in non_numerical_columns:\n",
    "    try:\n",
    "        is_column_datetime = df[col][0:6].apply(pd.to_datetime, format = 'mixed')\n",
    "        if type(is_column_datetime[0]) == pd._libs.tslibs.timestamps.Timestamp:\n",
    "            datetime_columns.append(col)\n",
    "    except:\n",
    "        categorical_columns.append(col)\n",
    "        pass"
   ]
  },
  {
   "cell_type": "code",
   "execution_count": 19,
   "metadata": {},
   "outputs": [
    {
     "name": "stdout",
     "output_type": "stream",
     "text": [
      "['issue_date', 'earliest_credit_line', 'last_payment_date', 'next_payment_date', 'last_credit_pull_date']\n",
      "['term', 'grade', 'sub_grade', 'employment_length', 'home_ownership', 'verification_status', 'loan_status', 'payment_plan', 'purpose', 'application_type']\n"
     ]
    }
   ],
   "source": [
    "print(datetime_columns)\n",
    "print(categorical_columns)"
   ]
  },
  {
   "cell_type": "code",
   "execution_count": 20,
   "metadata": {},
   "outputs": [
    {
     "data": {
      "text/plain": [
       "numpy.int64"
      ]
     },
     "execution_count": 20,
     "metadata": {},
     "output_type": "execute_result"
    }
   ],
   "source": [
    "type(df['loan_amount'][0])"
   ]
  },
  {
   "cell_type": "code",
   "execution_count": 21,
   "metadata": {},
   "outputs": [
    {
     "data": {
      "text/plain": [
       "0        Oct-1987\n",
       "1        Sep-2001\n",
       "2        Sep-1998\n",
       "3        Jun-2008\n",
       "4        Apr-2002\n",
       "           ...   \n",
       "54226    Apr-2003\n",
       "54227    Jan-1999\n",
       "54228    Feb-1984\n",
       "54229    Mar-1995\n",
       "54230    Oct-1998\n",
       "Name: earliest_credit_line, Length: 54231, dtype: object"
      ]
     },
     "execution_count": 21,
     "metadata": {},
     "output_type": "execute_result"
    }
   ],
   "source": [
    "df['earliest_credit_line']"
   ]
  },
  {
   "cell_type": "code",
   "execution_count": 22,
   "metadata": {},
   "outputs": [
    {
     "name": "stdout",
     "output_type": "stream",
     "text": [
      "id --> int32\n",
      "member_id --> int32\n",
      "loan_amount --> int32\n",
      "funded_amount --> float32\n",
      "funded_amount_inv --> float32\n",
      "term --> int32\n",
      "int_rate --> float32\n",
      "instalment --> float32\n",
      "grade --> category\n",
      "sub_grade --> category\n",
      "employment_length --> int32\n",
      "home_ownership --> category\n",
      "annual_inc --> float32\n",
      "verification_status --> category\n",
      "issue_date --> date\n"
     ]
    },
    {
     "name": "stdout",
     "output_type": "stream",
     "text": [
      "loan_status --> category\n",
      "payment_plan --> category\n",
      "purpose --> category\n",
      "dti --> float32\n",
      "delinq_2yrs --> int32\n",
      "earliest_credit_line --> date\n",
      "inq_last_6mths --> int32\n",
      "mths_since_last_delinq --> int32\n",
      "mths_since_last_record --> int32\n",
      "open_accounts --> int32\n",
      "total_accounts --> int32\n",
      "out_prncp --> float32\n",
      "out_prncp_inv --> float32\n",
      "total_payment --> float32\n",
      "total_payment_inv --> float32\n",
      "total_rec_prncp --> float32\n",
      "total_rec_int --> float32\n",
      "total_rec_late_fee --> float32\n",
      "recoveries --> float32\n",
      "collection_recovery_fee --> float32\n",
      "last_payment_date --> date\n",
      "last_payment_amount --> float32\n",
      "next_payment_date --> date\n",
      "last_credit_pull_date --> date\n",
      "collections_12_mths_ex_med --> int32\n",
      "mths_since_last_major_derog --> int32\n",
      "policy_code --> int32\n",
      "application_type --> category\n"
     ]
    }
   ],
   "source": [
    "# Load Data\n",
    "df = pd.read_csv(\"loan_payments.csv\")\n",
    "# Cast Datatypes\n",
    "transformer = DataTransform()\n",
    "df_info = DataFrameInfo(df)\n",
    "df = transformer.encode_transform(df)\n",
    "df = transformer.transform_digit_string(df)\n",
    "df = transformer.cast_column_dtypes(df)"
   ]
  },
  {
   "cell_type": "code",
   "execution_count": 23,
   "metadata": {},
   "outputs": [],
   "source": [
    "df_info = DataFrameInfo(df)"
   ]
  },
  {
   "cell_type": "code",
   "execution_count": 24,
   "metadata": {},
   "outputs": [
    {
     "data": {
      "text/plain": [
       "['Unnamed: 0',\n",
       " 'id',\n",
       " 'member_id',\n",
       " 'loan_amount',\n",
       " 'funded_amount',\n",
       " 'funded_amount_inv',\n",
       " 'term',\n",
       " 'int_rate',\n",
       " 'instalment',\n",
       " 'employment_length',\n",
       " 'annual_inc',\n",
       " 'dti',\n",
       " 'delinq_2yrs',\n",
       " 'inq_last_6mths',\n",
       " 'mths_since_last_delinq',\n",
       " 'mths_since_last_record',\n",
       " 'open_accounts',\n",
       " 'total_accounts',\n",
       " 'out_prncp',\n",
       " 'out_prncp_inv',\n",
       " 'total_payment',\n",
       " 'total_payment_inv',\n",
       " 'total_rec_prncp',\n",
       " 'total_rec_int',\n",
       " 'total_rec_late_fee',\n",
       " 'recoveries',\n",
       " 'collection_recovery_fee',\n",
       " 'last_payment_amount',\n",
       " 'collections_12_mths_ex_med',\n",
       " 'mths_since_last_major_derog',\n",
       " 'policy_code']"
      ]
     },
     "execution_count": 24,
     "metadata": {},
     "output_type": "execute_result"
    }
   ],
   "source": [
    "df_info.numerical_columns"
   ]
  },
  {
   "cell_type": "code",
   "execution_count": 25,
   "metadata": {},
   "outputs": [
    {
     "data": {
      "text/plain": [
       "numpy.int32"
      ]
     },
     "execution_count": 25,
     "metadata": {},
     "output_type": "execute_result"
    }
   ],
   "source": [
    "type(df['id'][0])"
   ]
  },
  {
   "cell_type": "code",
   "execution_count": 26,
   "metadata": {},
   "outputs": [
    {
     "data": {
      "text/plain": [
       "pandas._libs.tslibs.timestamps.Timestamp"
      ]
     },
     "execution_count": 26,
     "metadata": {},
     "output_type": "execute_result"
    }
   ],
   "source": [
    "type(df['issue_date'][0])"
   ]
  },
  {
   "cell_type": "code",
   "execution_count": 27,
   "metadata": {},
   "outputs": [
    {
     "data": {
      "text/plain": [
       "['grade',\n",
       " 'sub_grade',\n",
       " 'home_ownership',\n",
       " 'verification_status',\n",
       " 'issue_date',\n",
       " 'loan_status',\n",
       " 'payment_plan',\n",
       " 'purpose',\n",
       " 'earliest_credit_line',\n",
       " 'last_payment_date',\n",
       " 'next_payment_date',\n",
       " 'last_credit_pull_date',\n",
       " 'application_type']"
      ]
     },
     "execution_count": 27,
     "metadata": {},
     "output_type": "execute_result"
    }
   ],
   "source": [
    "df_info.non_numerical_columns"
   ]
  },
  {
   "cell_type": "code",
   "execution_count": 29,
   "metadata": {},
   "outputs": [
    {
     "data": {
      "text/plain": [
       "['issue_date',\n",
       " 'earliest_credit_line',\n",
       " 'last_payment_date',\n",
       " 'next_payment_date',\n",
       " 'last_credit_pull_date']"
      ]
     },
     "execution_count": 29,
     "metadata": {},
     "output_type": "execute_result"
    }
   ],
   "source": [
    "df_info.datetime_columns"
   ]
  },
  {
   "cell_type": "code",
   "execution_count": 31,
   "metadata": {},
   "outputs": [
    {
     "data": {
      "text/plain": [
       "['grade',\n",
       " 'sub_grade',\n",
       " 'home_ownership',\n",
       " 'verification_status',\n",
       " 'loan_status',\n",
       " 'payment_plan',\n",
       " 'purpose',\n",
       " 'application_type']"
      ]
     },
     "execution_count": 31,
     "metadata": {},
     "output_type": "execute_result"
    }
   ],
   "source": [
    "df_info.categorical_columns"
   ]
  },
  {
   "cell_type": "code",
   "execution_count": 35,
   "metadata": {},
   "outputs": [
    {
     "data": {
      "text/plain": [
       "True"
      ]
     },
     "execution_count": 35,
     "metadata": {},
     "output_type": "execute_result"
    }
   ],
   "source": [
    "len(df_info.numerical_columns) + len(df_info.non_numerical_columns) == len(df.columns)"
   ]
  }
 ],
 "metadata": {
  "kernelspec": {
   "display_name": "my_env",
   "language": "python",
   "name": "python3"
  },
  "language_info": {
   "codemirror_mode": {
    "name": "ipython",
    "version": 3
   },
   "file_extension": ".py",
   "mimetype": "text/x-python",
   "name": "python",
   "nbconvert_exporter": "python",
   "pygments_lexer": "ipython3",
   "version": "3.11.2"
  }
 },
 "nbformat": 4,
 "nbformat_minor": 2
}
