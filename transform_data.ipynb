{
 "cells": [
  {
   "cell_type": "code",
   "execution_count": 6,
   "metadata": {},
   "outputs": [],
   "source": [
    "from data_transform import DataTransform \n",
    "import pandas as pd\n",
    "import pandasgui as pdgui"
   ]
  },
  {
   "cell_type": "markdown",
   "metadata": {},
   "source": [
    "Casting columns\n",
    " #   Column                       Dtype         New Dtype \n",
    "---  ------                       -----         ---------\n",
    " 0   Unnamed: 0                   int64         int64\n",
    " 1   id                           int64         int32   \n",
    " 2   member_id                    int64         int32\n",
    " 3   loan_amount                  int64         int32\n",
    " 4   funded_amount                float64       float32\n",
    " 5   funded_amount_inv            float64       float32\n",
    " 6   term                         object        categorical   \n",
    " 7   int_rate                     float64       float32\n",
    " 8   instalment                   float64       float32\n",
    " 9   grade                        object        category --> factorise (put a hierarchy)\n",
    " 10  sub_grade                    object        category --> factorise\n",
    " 11  employment_length            object        int32\n",
    " 12  home_ownership               object        category\n",
    " 13  annual_inc                   float64       float32\n",
    " 14  verification_status          object        category\n",
    " 15  issue_date                   object        date\n",
    " 16  loan_status                  object        category\n",
    " 17  payment_plan                 object        category\n",
    " 18  purpose                      object        category\n",
    " 19  dti                          float64       float32\n",
    " 20  delinq_2yrs                  int64         int32\n",
    " 21  earliest_credit_line         object        date\n",
    " 22  inq_last_6mths               int64         int32\n",
    " 23  mths_since_last_delinq       float64       int32\n",
    " 24  mths_since_last_record       float64       int32\n",
    " 25  open_accounts                int64         int32\n",
    " 26  total_accounts               int64         int32\n",
    " 27  out_prncp                    float64       float32\n",
    " 28  out_prncp_inv                float64       float32\n",
    " 29  total_payment                float64       float32\n",
    " 30  total_payment_inv            float64       float32\n",
    " 31  total_rec_prncp              float64       float32\n",
    " 32  total_rec_int                float64       float32\n",
    " 33  total_rec_late_fee           float64       float32\n",
    " 34  recoveries                   float64       float32\n",
    " 35  collection_recovery_fee      float64       float32\n",
    " 36  last_payment_date            object        date\n",
    " 37  last_payment_amount          float64       float32\n",
    " 38  next_payment_date            object        date\n",
    " 39  last_credit_pull_date        object        date\n",
    " 40  collections_12_mths_ex_med   float64       int32\n",
    " 41  mths_since_last_major_derog  float64       int32\n",
    " 42  policy_code                  int64         int32\n",
    " 43  application_type             object        category\n",
    "\n"
   ]
  },
  {
   "cell_type": "markdown",
   "metadata": {},
   "source": [
    "Nominal = categories with an order\n",
    "Non-nominal = categories without an order\n",
    "Impute loan_amount with funded_amount\n",
    "If column is normalised, use mean \n",
    "If not, use median\n",
    "\n",
    "To determine outliers:\n",
    "z-score method: If its not skewed or normalised. Uses standard deviations from the mean.\n",
    "IQR methodL: If its skewed\n",
    "term: inpute with mode\n",
    "int_rate: impute with mean\n"
   ]
  },
  {
   "cell_type": "code",
   "execution_count": null,
   "metadata": {},
   "outputs": [],
   "source": [
    "df = pd.read_csv(\"loan_payments.csv\")\n",
    "    # pdgui.show(df)\n",
    "    \n",
    "transformer = DataTransform()\n",
    "df = transformer.transform_employment_length(df)\n",
    "df = transformer.cast_column_dtypes(df)\n",
    "print(df.info())\n",
    "print(df.head(10))"
   ]
  }
 ],
 "metadata": {
  "kernelspec": {
   "display_name": "my_env",
   "language": "python",
   "name": "python3"
  },
  "language_info": {
   "codemirror_mode": {
    "name": "ipython",
    "version": 3
   },
   "file_extension": ".py",
   "mimetype": "text/x-python",
   "name": "python",
   "nbconvert_exporter": "python",
   "pygments_lexer": "ipython3",
   "version": "3.11.4"
  }
 },
 "nbformat": 4,
 "nbformat_minor": 2
}
