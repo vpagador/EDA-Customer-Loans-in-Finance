{
 "cells": [
  {
   "cell_type": "code",
   "execution_count": 1,
   "metadata": {},
   "outputs": [],
   "source": [
    "from data_transform import DataTransform as Transform\n",
    "import pandas as pd\n",
    "import pandasgui as pdgui"
   ]
  },
  {
   "cell_type": "code",
   "execution_count": 4,
   "metadata": {},
   "outputs": [],
   "source": [
    "df = pd.read_csv(\"loan_payments.csv\")"
   ]
  },
  {
   "cell_type": "code",
   "execution_count": 3,
   "metadata": {},
   "outputs": [
    {
     "name": "stdout",
     "output_type": "stream",
     "text": [
      "<class 'pandas.core.frame.DataFrame'>\n",
      "RangeIndex: 54231 entries, 0 to 54230\n",
      "Data columns (total 44 columns):\n",
      " #   Column                       Non-Null Count  Dtype  \n",
      "---  ------                       --------------  -----  \n",
      " 0   Unnamed: 0                   54231 non-null  int64  \n",
      " 1   id                           54231 non-null  int64  \n",
      " 2   member_id                    54231 non-null  int64  \n",
      " 3   loan_amount                  54231 non-null  int64  \n",
      " 4   funded_amount                51224 non-null  float64\n",
      " 5   funded_amount_inv            54231 non-null  float64\n",
      " 6   term                         49459 non-null  object \n",
      " 7   int_rate                     49062 non-null  float64\n",
      " 8   instalment                   54231 non-null  float64\n",
      " 9   grade                        54231 non-null  object \n",
      " 10  sub_grade                    54231 non-null  object \n",
      " 11  employment_length            52113 non-null  object \n",
      " 12  home_ownership               54231 non-null  object \n",
      " 13  annual_inc                   54231 non-null  float64\n",
      " 14  verification_status          54231 non-null  object \n",
      " 15  issue_date                   54231 non-null  object \n",
      " 16  loan_status                  54231 non-null  object \n",
      " 17  payment_plan                 54231 non-null  object \n",
      " 18  purpose                      54231 non-null  object \n",
      " 19  dti                          54231 non-null  float64\n",
      " 20  delinq_2yrs                  54231 non-null  int64  \n",
      " 21  earliest_credit_line         54231 non-null  object \n",
      " 22  inq_last_6mths               54231 non-null  int64  \n",
      " 23  mths_since_last_delinq       23229 non-null  float64\n",
      " 24  mths_since_last_record       6181 non-null   float64\n",
      " 25  open_accounts                54231 non-null  int64  \n",
      " 26  total_accounts               54231 non-null  int64  \n",
      " 27  out_prncp                    54231 non-null  float64\n",
      " 28  out_prncp_inv                54231 non-null  float64\n",
      " 29  total_payment                54231 non-null  float64\n",
      " 30  total_payment_inv            54231 non-null  float64\n",
      " 31  total_rec_prncp              54231 non-null  float64\n",
      " 32  total_rec_int                54231 non-null  float64\n",
      " 33  total_rec_late_fee           54231 non-null  float64\n",
      " 34  recoveries                   54231 non-null  float64\n",
      " 35  collection_recovery_fee      54231 non-null  float64\n",
      " 36  last_payment_date            54158 non-null  object \n",
      " 37  last_payment_amount          54231 non-null  float64\n",
      " 38  next_payment_date            21623 non-null  object \n",
      " 39  last_credit_pull_date        54224 non-null  object \n",
      " 40  collections_12_mths_ex_med   54180 non-null  float64\n",
      " 41  mths_since_last_major_derog  7499 non-null   float64\n",
      " 42  policy_code                  54231 non-null  int64  \n",
      " 43  application_type             54231 non-null  object \n",
      "dtypes: float64(20), int64(9), object(15)\n",
      "memory usage: 18.2+ MB\n"
     ]
    }
   ],
   "source": [
    "data_transformer = Transform()\n",
    "#pdgui.show(df)\n",
    "columns = data_transformer.explore_columns(df)"
   ]
  },
  {
   "cell_type": "markdown",
   "metadata": {},
   "source": [
    "Casting columns\n",
    " #   Column                       Dtype         New Dtype \n",
    "---  ------                       -----         ---------\n",
    " 0   Unnamed: 0                   int64         int64\n",
    " 1   id                           int64         int32   \n",
    " 2   member_id                    int64         int32\n",
    " 3   loan_amount                  int64         int32\n",
    " 4   funded_amount                float64       float32\n",
    " 5   funded_amount_inv            float64       float32\n",
    " 6   term                         object        categorical   \n",
    " 7   int_rate                     float64       float32\n",
    " 8   instalment                   float64       float32\n",
    " 9   grade                        object        category --> factorise (put a hierarchy)\n",
    " 10  sub_grade                    object        category --> factorise\n",
    " 11  employment_length            object        int32\n",
    " 12  home_ownership               object        category\n",
    " 13  annual_inc                   float64       float32\n",
    " 14  verification_status          object        category\n",
    " 15  issue_date                   object        date\n",
    " 16  loan_status                  object        category\n",
    " 17  payment_plan                 object        category\n",
    " 18  purpose                      object        category\n",
    " 19  dti                          float64       float32\n",
    " 20  delinq_2yrs                  int64         int32\n",
    " 21  earliest_credit_line         object        date\n",
    " 22  inq_last_6mths               int64         int32\n",
    " 23  mths_since_last_delinq       float64       int32\n",
    " 24  mths_since_last_record       float64       int32\n",
    " 25  open_accounts                int64         int32\n",
    " 26  total_accounts               int64         int32\n",
    " 27  out_prncp                    float64       float32\n",
    " 28  out_prncp_inv                float64       float32\n",
    " 29  total_payment                float64       float32\n",
    " 30  total_payment_inv            float64       float32\n",
    " 31  total_rec_prncp              float64       float32\n",
    " 32  total_rec_int                float64       float32\n",
    " 33  total_rec_late_fee           float64       float32\n",
    " 34  recoveries                   float64       float32\n",
    " 35  collection_recovery_fee      float64       float32\n",
    " 36  last_payment_date            object        date\n",
    " 37  last_payment_amount          float64       float32\n",
    " 38  next_payment_date            object        date\n",
    " 39  last_credit_pull_date        object        date\n",
    " 40  collections_12_mths_ex_med   float64       int32\n",
    " 41  mths_since_last_major_derog  float64       int32\n",
    " 42  policy_code                  int64         int32\n",
    " 43  application_type             object        category\n",
    "\n"
   ]
  },
  {
   "cell_type": "markdown",
   "metadata": {},
   "source": [
    "Nominal = categories with an order\n",
    "Non-nominal = categories without an order\n",
    "Impute loan_amount with funded_amount\n",
    "If column is normalised, use mean \n",
    "If not, use median\n",
    "\n",
    "To determine outliers:\n",
    "z-score method: If its not skewed or normalised. Uses standard deviations from the mean.\n",
    "IQR methodL: If its skewed\n",
    "term: inpute with mode\n",
    "int_rate: impute with mean\n"
   ]
  },
  {
   "cell_type": "code",
   "execution_count": 3,
   "metadata": {},
   "outputs": [
    {
     "name": "stdout",
     "output_type": "stream",
     "text": [
      "dict_values(['int64', 'int32', 'int32', 'int32', 'float32', 'float32', 'categorical', 'float32', 'float32', 'category', 'category', 'int32', 'category', 'float32', 'category', 'date', 'category', 'category', 'category', 'float32', 'int32', 'date', 'int32', 'int32', 'int32', 'int32', 'int32', 'float32', 'float32', 'float32', 'float32', 'float32', 'float32', 'float32', 'float32', 'float32', 'date', 'float32', 'date', 'date', 'int32', 'int32', 'int32', 'category'])\n"
     ]
    }
   ],
   "source": [
    "from yaml import load,SafeLoader\n",
    "with open('cast_dtypes.yaml') as f:\n",
    "    creds = load(f, Loader=SafeLoader)\n",
    "\n",
    "print(creds.values())"
   ]
  },
  {
   "cell_type": "code",
   "execution_count": 7,
   "metadata": {},
   "outputs": [
    {
     "data": {
      "text/plain": [
       "str"
      ]
     },
     "execution_count": 7,
     "metadata": {},
     "output_type": "execute_result"
    }
   ],
   "source": [
    "import re\n",
    "x ='5 years'\n",
    "\n",
    "type(re.sub(r'[a-zA-Z]+','',x).strip())"
   ]
  },
  {
   "cell_type": "code",
   "execution_count": 5,
   "metadata": {},
   "outputs": [
    {
     "ename": "KeyError",
     "evalue": "'Only the Series name can be used for the key in Series dtype mappings.'",
     "output_type": "error",
     "traceback": [
      "\u001b[1;31m---------------------------------------------------------------------------\u001b[0m",
      "\u001b[1;31mKeyError\u001b[0m                                  Traceback (most recent call last)",
      "\u001b[1;32m~\\AppData\\Local\\Temp\\ipykernel_18924\\2891163505.py\u001b[0m in \u001b[0;36m?\u001b[1;34m()\u001b[0m\n\u001b[0;32m      1\u001b[0m \u001b[0mdf\u001b[0m \u001b[1;33m=\u001b[0m \u001b[0mdf\u001b[0m\u001b[1;33m.\u001b[0m\u001b[0miloc\u001b[0m\u001b[1;33m[\u001b[0m\u001b[1;36m5\u001b[0m\u001b[1;33m]\u001b[0m\u001b[1;33m\u001b[0m\u001b[1;33m\u001b[0m\u001b[0m\n\u001b[0;32m      2\u001b[0m \u001b[0mdict\u001b[0m \u001b[1;33m=\u001b[0m\u001b[1;33m{\u001b[0m\u001b[1;34m'term'\u001b[0m \u001b[1;33m:\u001b[0m \u001b[1;34m'category'\u001b[0m\u001b[1;33m}\u001b[0m\u001b[1;33m\u001b[0m\u001b[1;33m\u001b[0m\u001b[0m\n\u001b[1;32m----> 3\u001b[1;33m \u001b[0mdf\u001b[0m\u001b[1;33m.\u001b[0m\u001b[0mastype\u001b[0m\u001b[1;33m(\u001b[0m\u001b[0mdict\u001b[0m\u001b[1;33m)\u001b[0m\u001b[1;33m\u001b[0m\u001b[1;33m\u001b[0m\u001b[0m\n\u001b[0m",
      "\u001b[1;32mc:\\Users\\vande\\Miniconda3\\envs\\my_env\\Lib\\site-packages\\pandas\\core\\generic.py\u001b[0m in \u001b[0;36m?\u001b[1;34m(self, dtype, copy, errors)\u001b[0m\n\u001b[0;32m   6271\u001b[0m \u001b[1;33m\u001b[0m\u001b[0m\n\u001b[0;32m   6272\u001b[0m         \u001b[1;32mif\u001b[0m \u001b[0mis_dict_like\u001b[0m\u001b[1;33m(\u001b[0m\u001b[0mdtype\u001b[0m\u001b[1;33m)\u001b[0m\u001b[1;33m:\u001b[0m\u001b[1;33m\u001b[0m\u001b[1;33m\u001b[0m\u001b[0m\n\u001b[0;32m   6273\u001b[0m             \u001b[1;32mif\u001b[0m \u001b[0mself\u001b[0m\u001b[1;33m.\u001b[0m\u001b[0mndim\u001b[0m \u001b[1;33m==\u001b[0m \u001b[1;36m1\u001b[0m\u001b[1;33m:\u001b[0m  \u001b[1;31m# i.e. Series\u001b[0m\u001b[1;33m\u001b[0m\u001b[1;33m\u001b[0m\u001b[0m\n\u001b[0;32m   6274\u001b[0m                 \u001b[1;32mif\u001b[0m \u001b[0mlen\u001b[0m\u001b[1;33m(\u001b[0m\u001b[0mdtype\u001b[0m\u001b[1;33m)\u001b[0m \u001b[1;33m>\u001b[0m \u001b[1;36m1\u001b[0m \u001b[1;32mor\u001b[0m \u001b[0mself\u001b[0m\u001b[1;33m.\u001b[0m\u001b[0mname\u001b[0m \u001b[1;32mnot\u001b[0m \u001b[1;32min\u001b[0m \u001b[0mdtype\u001b[0m\u001b[1;33m:\u001b[0m\u001b[1;33m\u001b[0m\u001b[1;33m\u001b[0m\u001b[0m\n\u001b[1;32m-> 6275\u001b[1;33m                     raise KeyError(\n\u001b[0m\u001b[0;32m   6276\u001b[0m                         \u001b[1;34m\"Only the Series name can be used for \"\u001b[0m\u001b[1;33m\u001b[0m\u001b[1;33m\u001b[0m\u001b[0m\n\u001b[0;32m   6277\u001b[0m                         \u001b[1;34m\"the key in Series dtype mappings.\"\u001b[0m\u001b[1;33m\u001b[0m\u001b[1;33m\u001b[0m\u001b[0m\n\u001b[0;32m   6278\u001b[0m                     )\n",
      "\u001b[1;31mKeyError\u001b[0m: 'Only the Series name can be used for the key in Series dtype mappings.'"
     ]
    }
   ],
   "source": [
    "df = df.iloc[5]\n",
    "df = df['term'].astype('category') \n",
    "df.info()"
   ]
  }
 ],
 "metadata": {
  "kernelspec": {
   "display_name": "my_env",
   "language": "python",
   "name": "python3"
  },
  "language_info": {
   "codemirror_mode": {
    "name": "ipython",
    "version": 3
   },
   "file_extension": ".py",
   "mimetype": "text/x-python",
   "name": "python",
   "nbconvert_exporter": "python",
   "pygments_lexer": "ipython3",
   "version": "3.11.4"
  }
 },
 "nbformat": 4,
 "nbformat_minor": 2
}
