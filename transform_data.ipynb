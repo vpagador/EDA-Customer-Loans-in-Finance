{
 "cells": [
  {
   "cell_type": "code",
   "execution_count": 1,
   "metadata": {},
   "outputs": [],
   "source": [
    "from data_transform import DataTransform as Transform\n",
    "import pandas as pd\n",
    "import pandasgui as pdgui"
   ]
  },
  {
   "cell_type": "code",
   "execution_count": 2,
   "metadata": {},
   "outputs": [],
   "source": [
    "df = pd.read_csv(\"loan_payments.csv\")"
   ]
  },
  {
   "cell_type": "code",
   "execution_count": 5,
   "metadata": {},
   "outputs": [
    {
     "name": "stderr",
     "output_type": "stream",
     "text": [
      "PandasGUI INFO — pandasgui.gui — Opening PandasGUI\n"
     ]
    },
    {
     "name": "stdout",
     "output_type": "stream",
     "text": [
      "<class 'pandas.core.frame.DataFrame'>\n",
      "RangeIndex: 54231 entries, 0 to 54230\n",
      "Data columns (total 44 columns):\n",
      " #   Column                       Non-Null Count  Dtype  \n",
      "---  ------                       --------------  -----  \n",
      " 0   Unnamed: 0                   54231 non-null  int64  \n",
      " 1   id                           54231 non-null  int64  \n",
      " 2   member_id                    54231 non-null  int64  \n",
      " 3   loan_amount                  54231 non-null  int64  \n",
      " 4   funded_amount                51224 non-null  float64\n",
      " 5   funded_amount_inv            54231 non-null  float64\n",
      " 6   term                         49459 non-null  object \n",
      " 7   int_rate                     49062 non-null  float64\n",
      " 8   instalment                   54231 non-null  float64\n",
      " 9   grade                        54231 non-null  object \n",
      " 10  sub_grade                    54231 non-null  object \n",
      " 11  employment_length            52113 non-null  object \n",
      " 12  home_ownership               54231 non-null  object \n",
      " 13  annual_inc                   54231 non-null  float64\n",
      " 14  verification_status          54231 non-null  object \n",
      " 15  issue_date                   54231 non-null  object \n",
      " 16  loan_status                  54231 non-null  object \n",
      " 17  payment_plan                 54231 non-null  object \n",
      " 18  purpose                      54231 non-null  object \n",
      " 19  dti                          54231 non-null  float64\n",
      " 20  delinq_2yrs                  54231 non-null  int64  \n",
      " 21  earliest_credit_line         54231 non-null  object \n",
      " 22  inq_last_6mths               54231 non-null  int64  \n",
      " 23  mths_since_last_delinq       23229 non-null  float64\n",
      " 24  mths_since_last_record       6181 non-null   float64\n",
      " 25  open_accounts                54231 non-null  int64  \n",
      " 26  total_accounts               54231 non-null  int64  \n",
      " 27  out_prncp                    54231 non-null  float64\n",
      " 28  out_prncp_inv                54231 non-null  float64\n",
      " 29  total_payment                54231 non-null  float64\n",
      " 30  total_payment_inv            54231 non-null  float64\n",
      " 31  total_rec_prncp              54231 non-null  float64\n",
      " 32  total_rec_int                54231 non-null  float64\n",
      " 33  total_rec_late_fee           54231 non-null  float64\n",
      " 34  recoveries                   54231 non-null  float64\n",
      " 35  collection_recovery_fee      54231 non-null  float64\n",
      " 36  last_payment_date            54158 non-null  object \n",
      " 37  last_payment_amount          54231 non-null  float64\n",
      " 38  next_payment_date            21623 non-null  object \n",
      " 39  last_credit_pull_date        54224 non-null  object \n",
      " 40  collections_12_mths_ex_med   54180 non-null  float64\n",
      " 41  mths_since_last_major_derog  7499 non-null   float64\n",
      " 42  policy_code                  54231 non-null  int64  \n",
      " 43  application_type             54231 non-null  object \n",
      "dtypes: float64(20), int64(9), object(15)\n",
      "memory usage: 18.2+ MB\n",
      "None\n"
     ]
    }
   ],
   "source": [
    "data_transformer = Transform()\n",
    "#pdgui.show(df)\n",
    "columns = data_transformer.explore_columns(df)\n",
    "columns.to_csv(\"column_info.csv\")"
   ]
  }
 ],
 "metadata": {
  "kernelspec": {
   "display_name": "my_env",
   "language": "python",
   "name": "python3"
  },
  "language_info": {
   "codemirror_mode": {
    "name": "ipython",
    "version": 3
   },
   "file_extension": ".py",
   "mimetype": "text/x-python",
   "name": "python",
   "nbconvert_exporter": "python",
   "pygments_lexer": "ipython3",
   "version": "3.11.4"
  }
 },
 "nbformat": 4,
 "nbformat_minor": 2
}
